{
 "cells": [
  {
   "cell_type": "code",
   "execution_count": 21,
   "id": "2a6b9160-edd8-4699-a38e-1333a4d047a8",
   "metadata": {},
   "outputs": [],
   "source": [
    "from hardwareModel import HardwareModel\n",
    "import networkx as nx\n",
    "import cvxpy as cp\n",
    "import numpy as np\n",
    "from netgraph import Graph\n",
    "import matplotlib.pyplot as plt"
   ]
  },
  {
   "cell_type": "code",
   "execution_count": 22,
   "id": "3572431b-8b9d-45b9-9ce4-5534059e6cb9",
   "metadata": {},
   "outputs": [
    {
     "name": "stdout",
     "output_type": "stream",
     "text": [
      "netlist: [('Add0', {'type': 'pe', 'function': 'Add', 'in_use': 0, 'idx': 0}), ('Regs0', {'type': 'memory', 'function': 'Regs', 'in_use': 0, 'size': 1, 'idx': 0}), ('Regs1', {'type': 'memory', 'function': 'Regs', 'in_use': 0, 'size': 1, 'idx': 1}), ('Regs2', {'type': 'memory', 'function': 'Regs', 'in_use': 0, 'size': 1, 'idx': 2}), ('Mult0', {'type': 'pe', 'function': 'Mult', 'in_use': 0, 'idx': 0}), ('Eq0', {'type': 'pe', 'function': 'Eq', 'in_use': 0, 'idx': 0}), ('Buf0', {'type': 'mem', 'function': 'Buf', 'in_use': 0, 'idx': 0, 'size': 22}), ('Buf1', {'type': 'mem', 'function': 'Buf', 'in_use': 0, 'idx': 1, 'size': 22}), ('Mem0', {'type': 'mem', 'function': 'MainMem', 'in_use': 0, 'idx': 0, 'size': 1024}), ('Regs3', {'type': 'memory', 'function': 'Regs', 'in_use': 0, 'size': 1, 'idx': 3})]\n"
     ]
    }
   ],
   "source": [
    "hw = HardwareModel(cfg=\"aladdin_const_with_mem\")"
   ]
  },
  {
   "cell_type": "code",
   "execution_count": 23,
   "id": "bc3632ad-d861-4940-92af-7662f0fcb8b4",
   "metadata": {},
   "outputs": [
    {
     "name": "stdout",
     "output_type": "stream",
     "text": [
      "DiGraph with 10 nodes and 38 edges\n",
      "{'Add': 379348800.0, 'Sub': 379348800.0, 'And': 50369960.0, 'BitAnd': 50369960.0, 'BitOr': 50369960.0, 'BitXor': 50369960.0, 'Eq': 379348800.0, 'FloorDiv': 8340007000.0, 'Gt': 379348800.0, 'GtE': 379348800.0, 'Invert': 50369960.0, 'IsNot': 50369960.0, 'LShift': 24964610.0, 'Lt': 379348800.0, 'LtE': 379348800.0, 'Mod': 379348800.0, 'Mult': 8340007000.0, 'Not': 50369960.0, 'NotEq': 379348800.0, 'Or': 50369960.0, 'RShift': 24964610.0, 'Regs': 5981433.0, 'UAdd': 379348800.0, 'USub': 379348800.0, 'Buf': 0.0, 'MainMem': 5981433.0}\n"
     ]
    }
   ],
   "source": [
    "print(hw.netlist)\n",
    "print(hw.area)"
   ]
  },
  {
   "cell_type": "code",
   "execution_count": 24,
   "id": "38db670d-dd94-4898-80d4-cdba6f07e830",
   "metadata": {},
   "outputs": [
    {
     "data": {
      "text/plain": [
       "379348800.0"
      ]
     },
     "execution_count": 24,
     "metadata": {},
     "output_type": "execute_result"
    }
   ],
   "source": [
    "hw.area['Add']"
   ]
  },
  {
   "cell_type": "code",
   "execution_count": 25,
   "id": "1079d5e2-36e6-40bd-ae1d-e635a0452b2e",
   "metadata": {},
   "outputs": [],
   "source": [
    "newGraph = nx.DiGraph()\n",
    "newGraph.add_nodes_from([(1, {'function' : 'Mult'}), (2, {'function' : 'Add'})])\n",
    "newGraph.add_edges_from([(1, 2)])"
   ]
  },
  {
   "cell_type": "code",
   "execution_count": 26,
   "id": "88b36d63-6a74-4715-a204-38fdc12629b1",
   "metadata": {},
   "outputs": [
    {
     "data": {
      "text/plain": [
       "NodeDataView({1: {'function': 'Mult'}, 2: {'function': 'Add'}})"
      ]
     },
     "execution_count": 26,
     "metadata": {},
     "output_type": "execute_result"
    }
   ],
   "source": [
    "#digraph = hw.netlist\n",
    "digraph = newGraph\n",
    "nodes = digraph.nodes\n",
    "edges = digraph.edges\n",
    "#print(\"Nodes:\", list(nodes))\n",
    "#print(\"Edges:\", list(edges))\n",
    "digraph.nodes.data(True)\n",
    "#digraph.nodes.data['function']"
   ]
  },
  {
   "cell_type": "code",
   "execution_count": 27,
   "id": "7e7821ff-1fe5-4dca-afc4-2545292710f5",
   "metadata": {},
   "outputs": [],
   "source": [
    "def compute_Kij(i, j, n):\n",
    "    # Create the unit vectors e_i and e_j\n",
    "    e_i = np.zeros(n)\n",
    "    e_j = np.zeros(n)\n",
    "    e_i[i] = 1\n",
    "    e_j[j] = 1\n",
    "    \n",
    "    # Compute the difference\n",
    "    diff = e_i - e_j\n",
    "    \n",
    "    # Compute the outer product of the difference with itself\n",
    "    Kij = np.outer(diff, diff)\n",
    "    \n",
    "    return Kij"
   ]
  },
  {
   "cell_type": "code",
   "execution_count": 28,
   "id": "e9d2151a-e2f2-4b6a-a628-e4c7b14546e0",
   "metadata": {},
   "outputs": [
    {
     "name": "stdout",
     "output_type": "stream",
     "text": [
      "[1, 2]\n"
     ]
    },
    {
     "data": {
      "text/plain": [
       "{'Add': 379348800.0,\n",
       " 'Sub': 379348800.0,\n",
       " 'And': 50369960.0,\n",
       " 'BitAnd': 50369960.0,\n",
       " 'BitOr': 50369960.0,\n",
       " 'BitXor': 50369960.0,\n",
       " 'Eq': 379348800.0,\n",
       " 'FloorDiv': 8340007000.0,\n",
       " 'Gt': 379348800.0,\n",
       " 'GtE': 379348800.0,\n",
       " 'Invert': 50369960.0,\n",
       " 'IsNot': 50369960.0,\n",
       " 'LShift': 24964610.0,\n",
       " 'Lt': 379348800.0,\n",
       " 'LtE': 379348800.0,\n",
       " 'Mod': 379348800.0,\n",
       " 'Mult': 8340007000.0,\n",
       " 'Not': 50369960.0,\n",
       " 'NotEq': 379348800.0,\n",
       " 'Or': 50369960.0,\n",
       " 'RShift': 24964610.0,\n",
       " 'Regs': 5981433.0,\n",
       " 'UAdd': 379348800.0,\n",
       " 'USub': 379348800.0,\n",
       " 'Buf': 0.0,\n",
       " 'MainMem': 5981433.0}"
      ]
     },
     "execution_count": 28,
     "metadata": {},
     "output_type": "execute_result"
    }
   ],
   "source": [
    "print(nodes)\n",
    "\n",
    "hw.area"
   ]
  },
  {
   "cell_type": "code",
   "execution_count": 29,
   "id": "f5c6c483-a472-478b-8296-eb6089bb2541",
   "metadata": {
    "scrolled": true
   },
   "outputs": [
    {
     "name": "stdout",
     "output_type": "stream",
     "text": [
      "The optimal value is -6.7362513514084596e-18 \n",
      "\n",
      "A solution t is [98.15776769 99.65254727] \n",
      "\n",
      "A solution Q is [[ 2.24038068e-29  1.21478289e-28]\n",
      " [ 1.21478289e-28 -1.82499569e-26]]\n"
     ]
    }
   ],
   "source": [
    "\n",
    "node_to_index = {node: i for i, node in enumerate(nodes)}\n",
    "#print(edges)\n",
    "newEdges = []\n",
    "\n",
    "for edge in edges:\n",
    "    if (edge[1], edge[0]) in newEdges:\n",
    "        continue\n",
    "\n",
    "    newEdges.append(edge)\n",
    "\n",
    "E = [(node_to_index[src], node_to_index[dst]) for src, dst in newEdges]\n",
    "n = len(nodes)\n",
    "w = np.asarray([[1.0] for _ in node_to_index])\n",
    "areas = hw.area\n",
    "\n",
    "for node in digraph.nodes.data(True):\n",
    "    index = node_to_index[node[0]]\n",
    "    w[index, 0] = areas[node[1]['function']]\n",
    "\n",
    "diag_w = cp.diag(w)\n",
    "wwT = w @ w.T\n",
    "Ti = 100\n",
    "di = 1\n",
    "alpha = 1\n",
    "Q = cp.Variable((n, n))\n",
    "t = cp.Variable(n)\n",
    "\n",
    "objective = cp.Maximize(cp.sum(cp.multiply(diag_w, Q))) \n",
    "\n",
    "constraints = [cp.sum(cp.multiply(wwT, Q)) == 0, Q >= 0] \n",
    "\n",
    "for i in range(n):\n",
    "    #constraints += [t[i] <= i * (Ti / n)]\n",
    "    constraints += [t[i] <= Ti]\n",
    "\n",
    "#checkForDoubly = set()\n",
    "\n",
    "for pair in E:\n",
    "    #print(pair)\n",
    "    first = pair[0]\n",
    "    sec = pair[1]\n",
    "\n",
    "    # if (pair[1], pair[0]) in checkForDoubly:\n",
    "    #     continue\n",
    "\n",
    "    # checkForDoubly.add(pair)\n",
    "    constraints += [t[first] + di + alpha * cp.sum(cp.multiply(compute_Kij(first, sec, n), Q)) <= t[sec]]\n",
    "\n",
    "prob = cp.Problem(objective, constraints)\n",
    "prob.solve(solver='SCS', eps=1e-9, verbose=False)\n",
    "\n",
    "print(\"The optimal value is\", prob.value, '\\n')\n",
    "print(\"A solution t is\", t.value, '\\n')\n",
    "print(\"A solution Q is\", Q.value)"
   ]
  },
  {
   "cell_type": "code",
   "execution_count": 30,
   "id": "25daf82a-70ae-47f1-9df7-946c0f10e781",
   "metadata": {
    "scrolled": true
   },
   "outputs": [
    {
     "name": "stdout",
     "output_type": "stream",
     "text": [
      "[[ True  True]\n",
      " [ True  True]]\n"
     ]
    }
   ],
   "source": [
    "print(Q.value == Q.value.T)"
   ]
  },
  {
   "cell_type": "code",
   "execution_count": 31,
   "id": "d63ecd33-d127-4417-a119-fb2dd6746684",
   "metadata": {},
   "outputs": [
    {
     "name": "stdout",
     "output_type": "stream",
     "text": [
      "[-1.82507645e-26  2.32113829e-29]\n"
     ]
    }
   ],
   "source": [
    "Q_matrix = Q.value\n",
    "\n",
    "# for i in range(len(Q_matrix)):\n",
    "#     for j in range(len(Q_matrix[0])):\n",
    "#         if Q_matrix[i, j] < 0:\n",
    "#             Q_matrix[i, j] = 0\n",
    "\n",
    "#print(Q_matrix)\n",
    "\n",
    "eigenvalues, eigenvectors = np.linalg.eigh(Q_matrix) \n",
    "print(eigenvalues)\n",
    "\n",
    "# for i in range(len(eigenvalues)):\n",
    "#     if eigenvalues[i] < 0:\n",
    "#         eigenvalues[i] = 0\n",
    "\n",
    "# D = np.diag(np.sqrt(eigenvalues))\n",
    "# P = eigenvectors @ D\n",
    "\n",
    "# print(Q.value)\n",
    "# print('\\n')\n",
    "# print(P @ P.T)"
   ]
  },
  {
   "cell_type": "code",
   "execution_count": 32,
   "id": "e4344fd8-9064-4873-965b-18811b689a32",
   "metadata": {},
   "outputs": [
    {
     "name": "stdout",
     "output_type": "stream",
     "text": [
      "(2, 2)\n",
      "var292\n",
      "5.683264772838868e-07 \n",
      "\n",
      "[[ 2.84163239e-07 -4.54562813e-07]\n",
      " [-1.13551245e-07  2.84163239e-07]]\n",
      "\n",
      "\n",
      "[1.70611994e-07 3.97714483e-07]\n"
     ]
    }
   ],
   "source": [
    "a1 = 1.0\n",
    "a2 = 1.0\n",
    "T = 100.0\n",
    "di = 1.0\n",
    "alpha = 1.0\n",
    "\n",
    "t1 = cp.Variable()\n",
    "t2 = cp.Variable()\n",
    "Q = cp.Variable((2, 2))\n",
    "#p = cp.Variable((2, 2))\n",
    "\n",
    "#Q = p.T @ p\n",
    "print(Q.shape)\n",
    "q1 = Q[0, 0]\n",
    "q2 = Q[0, 1]\n",
    "q3 = Q[1, 0]\n",
    "q4 = Q[1, 1]\n",
    "KQ_inner_prod = q1 - 2 * q2 + q4\n",
    "wwT_Q = q1 * (a1 ** 2) + q2 * a1 * a2 + q3 * a1 * a2 + q4 * (a2 ** 2)\n",
    "\n",
    "\n",
    "\n",
    "# q1 = x1 ** 2 + y1 ** 2\n",
    "# q4 = x2 ** 2 + y2 ** 2\n",
    "# q2 = -( (a1 ** 2) * q1 + (a2 ** 2) * q4 ) / (2 * a1 * a2)\n",
    "\n",
    "print(Q)\n",
    "objective = cp.Maximize(a1 * q1 + a2 * q4)\n",
    "\n",
    "constraints = [t1 + di + alpha * KQ_inner_prod <= t2, Q >= 0, t1 <= T, t2 <= T, wwT_Q == 0]\n",
    "\n",
    "prob = cp.Problem(objective, constraints)\n",
    "prob.solve(solver='SCS', verbose=False)\n",
    "print(prob.value, '\\n')\n",
    "print(Q.value)\n",
    "print('\\n')\n",
    "\n",
    "eigenvalues, eigenvectors = np.linalg.eigh(Q.value) \n",
    "print(eigenvalues)"
   ]
  },
  {
   "cell_type": "code",
   "execution_count": 33,
   "id": "94d753a3-35dd-4996-9fd8-5bc56d1bd36c",
   "metadata": {},
   "outputs": [
    {
     "name": "stdout",
     "output_type": "stream",
     "text": [
      "[[ True False]\n",
      " [False  True]]\n"
     ]
    }
   ],
   "source": [
    "print(Q.value == Q.value.T)"
   ]
  },
  {
   "cell_type": "code",
   "execution_count": 34,
   "id": "4120ffd0-2ed3-4326-a5b1-ba20f2f95c01",
   "metadata": {},
   "outputs": [
    {
     "name": "stdout",
     "output_type": "stream",
     "text": [
      "{1: 0, 2: 1}\n"
     ]
    }
   ],
   "source": [
    "print(node_to_index)"
   ]
  },
  {
   "cell_type": "code",
   "execution_count": 60,
   "id": "596cbac1-bea5-4c76-a623-aa0920e4be9b",
   "metadata": {},
   "outputs": [
    {
     "name": "stdout",
     "output_type": "stream",
     "text": [
      "(1, 2, 0.0010660396496853)\n"
     ]
    }
   ],
   "source": [
    "KQ_inner = cp.sum(cp.multiply(compute_Kij(0, 1, 2), Q.value))\n",
    "lengths = []\n",
    "\n",
    "for edge in newEdges:\n",
    "    first = edge[0]\n",
    "    sec = edge[1]\n",
    "    length = np.sum(np.multiply(compute_Kij(node_to_index[first], node_to_index[sec], len(node_to_index)), Q.value)) ** 0.5\n",
    "    lengths = (first, sec, length)\n",
    "    #newGraph[first][sec]['weight'] = length\n",
    "\n",
    "print(lengths)"
   ]
  },
  {
   "cell_type": "code",
   "execution_count": 61,
   "id": "f2f477c9-13a6-428b-940e-01f50e5b9f85",
   "metadata": {},
   "outputs": [
    {
     "data": {
      "image/png": "[encoded data removed]",
      "text/plain": [
       "<Figure size 800x600 with 1 Axes>"
      ]
     },
     "metadata": {},
     "output_type": "display_data"
    }
   ],
   "source": [
    "G = nx.Graph()\n",
    "# G.add_edge('A', 'B', weight=10)\n",
    "# G.add_edge('B', 'C', weight=1)\n",
    "# G.add_edge('C', 'D', weight=5)\n",
    "# G.add_edge('D', 'A', weight=2)\n",
    "# G.add_edge('A', 'C', weight=20)\n",
    "# G.add_edge('B', 'D', weight=3)\n",
    "\n",
    "edges_with_weights = [\n",
    "    ('A', 'B', 10),\n",
    "    ('B', 'C', 1),\n",
    "    ('C', 'D', 5),\n",
    "    ('D', 'A', 2),\n",
    "    ('A', 'C', 20),\n",
    "    ('B', 'D', 3)\n",
    "]\n",
    "G.add_weighted_edges_from(edges_with_weights)\n",
    "pos = nx.spring_layout(G, weight='weight', iterations=1000, k=0.5/np.sqrt(len(G.nodes())))\n",
    "plt.figure(figsize=(8, 6))\n",
    "nx.draw(G, pos, with_labels=True, node_size=700, node_color='skyblue', font_weight='bold', font_size=16)\n",
    "labels = nx.get_edge_attributes(G, 'weight')\n",
    "nx.draw_networkx_edge_labels(G, pos, edge_labels=labels)\n",
    "plt.show()"
   ]
  },
  {
   "cell_type": "code",
   "execution_count": 62,
   "id": "77e25e62-944b-40b5-b53b-ee2d7e7455fd",
   "metadata": {},
   "outputs": [],
   "source": [
    "def plotter(G, edges_with_weights):\n",
    "    G.add_weighted_edges_from(edges_with_weights)\n",
    "    pos = nx.spring_layout(G, weight='weight', iterations=1000, k=0.5/np.sqrt(len(G.nodes())))\n",
    "    plt.figure(figsize=(8, 6))\n",
    "    nx.draw(G, pos, with_labels=True, node_size=700, node_color='skyblue', font_weight='bold', font_size=16)\n",
    "    labels = nx.get_edge_attributes(G, 'weight')\n",
    "    nx.draw_networkx_edge_labels(G, pos, edge_labels=labels)\n",
    "    plt.show()"
   ]
  },
  {
   "cell_type": "code",
   "execution_count": 63,
   "id": "c23f2771-5b2d-4c2f-9165-f875edda7f8b",
   "metadata": {},
   "outputs": [
    {
     "ename": "TypeError",
     "evalue": "cannot unpack non-iterable int object",
     "output_type": "error",
     "traceback": [
      "\u001b[0;31m---------------------------------------------------------------------------\u001b[0m",
      "\u001b[0;31mTypeError\u001b[0m                                 Traceback (most recent call last)",
      "Cell \u001b[0;32mIn[63], line 1\u001b[0m\n\u001b[0;32m----> 1\u001b[0m \u001b[43mplotter\u001b[49m\u001b[43m(\u001b[49m\u001b[43mnewGraph\u001b[49m\u001b[43m,\u001b[49m\u001b[43m \u001b[49m\u001b[43mlengths\u001b[49m\u001b[43m)\u001b[49m\n",
      "Cell \u001b[0;32mIn[62], line 2\u001b[0m, in \u001b[0;36mplotter\u001b[0;34m(G, edges_with_weights)\u001b[0m\n\u001b[1;32m      1\u001b[0m \u001b[38;5;28;01mdef\u001b[39;00m \u001b[38;5;21mplotter\u001b[39m(G, edges_with_weights):\n\u001b[0;32m----> 2\u001b[0m     \u001b[43mG\u001b[49m\u001b[38;5;241;43m.\u001b[39;49m\u001b[43madd_weighted_edges_from\u001b[49m\u001b[43m(\u001b[49m\u001b[43medges_with_weights\u001b[49m\u001b[43m)\u001b[49m\n\u001b[1;32m      3\u001b[0m     pos \u001b[38;5;241m=\u001b[39m nx\u001b[38;5;241m.\u001b[39mspring_layout(G, weight\u001b[38;5;241m=\u001b[39m\u001b[38;5;124m'\u001b[39m\u001b[38;5;124mweight\u001b[39m\u001b[38;5;124m'\u001b[39m, iterations\u001b[38;5;241m=\u001b[39m\u001b[38;5;241m1000\u001b[39m, k\u001b[38;5;241m=\u001b[39m\u001b[38;5;241m0.5\u001b[39m\u001b[38;5;241m/\u001b[39mnp\u001b[38;5;241m.\u001b[39msqrt(\u001b[38;5;28mlen\u001b[39m(G\u001b[38;5;241m.\u001b[39mnodes())))\n\u001b[1;32m      4\u001b[0m     plt\u001b[38;5;241m.\u001b[39mfigure(figsize\u001b[38;5;241m=\u001b[39m(\u001b[38;5;241m8\u001b[39m, \u001b[38;5;241m6\u001b[39m))\n",
      "File \u001b[0;32m~/opt/anaconda3/envs/codesign/lib/python3.10/site-packages/networkx/classes/graph.py:1089\u001b[0m, in \u001b[0;36mGraph.add_weighted_edges_from\u001b[0;34m(self, ebunch_to_add, weight, **attr)\u001b[0m\n\u001b[1;32m   1041\u001b[0m \u001b[38;5;28;01mdef\u001b[39;00m \u001b[38;5;21madd_weighted_edges_from\u001b[39m(\u001b[38;5;28mself\u001b[39m, ebunch_to_add, weight\u001b[38;5;241m=\u001b[39m\u001b[38;5;124m\"\u001b[39m\u001b[38;5;124mweight\u001b[39m\u001b[38;5;124m\"\u001b[39m, \u001b[38;5;241m*\u001b[39m\u001b[38;5;241m*\u001b[39mattr):\n\u001b[1;32m   1042\u001b[0m \u001b[38;5;250m    \u001b[39m\u001b[38;5;124;03m\"\"\"Add weighted edges in `ebunch_to_add` with specified weight attr\u001b[39;00m\n\u001b[1;32m   1043\u001b[0m \n\u001b[1;32m   1044\u001b[0m \u001b[38;5;124;03m    Parameters\u001b[39;00m\n\u001b[0;32m   (...)\u001b[0m\n\u001b[1;32m   1087\u001b[0m \u001b[38;5;124;03m    >>> G.add_weighted_edges_from(list((5, n, weight) for n in G.nodes))\u001b[39;00m\n\u001b[1;32m   1088\u001b[0m \u001b[38;5;124;03m    \"\"\"\u001b[39;00m\n\u001b[0;32m-> 1089\u001b[0m     \u001b[38;5;28;43mself\u001b[39;49m\u001b[38;5;241;43m.\u001b[39;49m\u001b[43madd_edges_from\u001b[49m\u001b[43m(\u001b[49m\u001b[43m(\u001b[49m\u001b[43m(\u001b[49m\u001b[43mu\u001b[49m\u001b[43m,\u001b[49m\u001b[43m \u001b[49m\u001b[43mv\u001b[49m\u001b[43m,\u001b[49m\u001b[43m \u001b[49m\u001b[43m{\u001b[49m\u001b[43mweight\u001b[49m\u001b[43m:\u001b[49m\u001b[43m \u001b[49m\u001b[43md\u001b[49m\u001b[43m}\u001b[49m\u001b[43m)\u001b[49m\u001b[43m \u001b[49m\u001b[38;5;28;43;01mfor\u001b[39;49;00m\u001b[43m \u001b[49m\u001b[43mu\u001b[49m\u001b[43m,\u001b[49m\u001b[43m \u001b[49m\u001b[43mv\u001b[49m\u001b[43m,\u001b[49m\u001b[43m \u001b[49m\u001b[43md\u001b[49m\u001b[43m \u001b[49m\u001b[38;5;129;43;01min\u001b[39;49;00m\u001b[43m \u001b[49m\u001b[43mebunch_to_add\u001b[49m\u001b[43m)\u001b[49m\u001b[43m,\u001b[49m\u001b[43m \u001b[49m\u001b[38;5;241;43m*\u001b[39;49m\u001b[38;5;241;43m*\u001b[39;49m\u001b[43mattr\u001b[49m\u001b[43m)\u001b[49m\n",
      "File \u001b[0;32m~/opt/anaconda3/envs/codesign/lib/python3.10/site-packages/networkx/classes/digraph.py:768\u001b[0m, in \u001b[0;36mDiGraph.add_edges_from\u001b[0;34m(self, ebunch_to_add, **attr)\u001b[0m\n\u001b[1;32m    713\u001b[0m \u001b[38;5;28;01mdef\u001b[39;00m \u001b[38;5;21madd_edges_from\u001b[39m(\u001b[38;5;28mself\u001b[39m, ebunch_to_add, \u001b[38;5;241m*\u001b[39m\u001b[38;5;241m*\u001b[39mattr):\n\u001b[1;32m    714\u001b[0m \u001b[38;5;250m    \u001b[39m\u001b[38;5;124;03m\"\"\"Add all the edges in ebunch_to_add.\u001b[39;00m\n\u001b[1;32m    715\u001b[0m \n\u001b[1;32m    716\u001b[0m \u001b[38;5;124;03m    Parameters\u001b[39;00m\n\u001b[0;32m   (...)\u001b[0m\n\u001b[1;32m    766\u001b[0m \u001b[38;5;124;03m    >>> G.add_edges_from(list((5, n) for n in G.nodes))\u001b[39;00m\n\u001b[1;32m    767\u001b[0m \u001b[38;5;124;03m    \"\"\"\u001b[39;00m\n\u001b[0;32m--> 768\u001b[0m     \u001b[38;5;28;01mfor\u001b[39;00m e \u001b[38;5;129;01min\u001b[39;00m ebunch_to_add:\n\u001b[1;32m    769\u001b[0m         ne \u001b[38;5;241m=\u001b[39m \u001b[38;5;28mlen\u001b[39m(e)\n\u001b[1;32m    770\u001b[0m         \u001b[38;5;28;01mif\u001b[39;00m ne \u001b[38;5;241m==\u001b[39m \u001b[38;5;241m3\u001b[39m:\n",
      "File \u001b[0;32m~/opt/anaconda3/envs/codesign/lib/python3.10/site-packages/networkx/classes/graph.py:1089\u001b[0m, in \u001b[0;36m<genexpr>\u001b[0;34m(.0)\u001b[0m\n\u001b[1;32m   1041\u001b[0m \u001b[38;5;28;01mdef\u001b[39;00m \u001b[38;5;21madd_weighted_edges_from\u001b[39m(\u001b[38;5;28mself\u001b[39m, ebunch_to_add, weight\u001b[38;5;241m=\u001b[39m\u001b[38;5;124m\"\u001b[39m\u001b[38;5;124mweight\u001b[39m\u001b[38;5;124m\"\u001b[39m, \u001b[38;5;241m*\u001b[39m\u001b[38;5;241m*\u001b[39mattr):\n\u001b[1;32m   1042\u001b[0m \u001b[38;5;250m    \u001b[39m\u001b[38;5;124;03m\"\"\"Add weighted edges in `ebunch_to_add` with specified weight attr\u001b[39;00m\n\u001b[1;32m   1043\u001b[0m \n\u001b[1;32m   1044\u001b[0m \u001b[38;5;124;03m    Parameters\u001b[39;00m\n\u001b[0;32m   (...)\u001b[0m\n\u001b[1;32m   1087\u001b[0m \u001b[38;5;124;03m    >>> G.add_weighted_edges_from(list((5, n, weight) for n in G.nodes))\u001b[39;00m\n\u001b[1;32m   1088\u001b[0m \u001b[38;5;124;03m    \"\"\"\u001b[39;00m\n\u001b[0;32m-> 1089\u001b[0m     \u001b[38;5;28mself\u001b[39m\u001b[38;5;241m.\u001b[39madd_edges_from(((u, v, {weight: d}) \u001b[38;5;28;01mfor\u001b[39;00m u, v, d \u001b[38;5;129;01min\u001b[39;00m ebunch_to_add), \u001b[38;5;241m*\u001b[39m\u001b[38;5;241m*\u001b[39mattr)\n",
      "\u001b[0;31mTypeError\u001b[0m: cannot unpack non-iterable int object"
     ]
    }
   ],
   "source": [
    "plotter(newGraph, lengths)"
   ]
  },
  {
   "cell_type": "code",
   "execution_count": null,
   "id": "03a845f7-76a6-47af-8769-b81e638e053c",
   "metadata": {},
   "outputs": [],
   "source": []
  }
 ],
 "metadata": {
  "kernelspec": {
   "display_name": "Python 3 (ipykernel)",
   "language": "python",
   "name": "python3"
  },
  "language_info": {
   "codemirror_mode": {
    "name": "ipython",
    "version": 3
   },
   "file_extension": ".py",
   "mimetype": "text/x-python",
   "name": "python",
   "nbconvert_exporter": "python",
   "pygments_lexer": "ipython3",
   "version": "3.10.13"
  }
 },
 "nbformat": 4,
 "nbformat_minor": 5
}
