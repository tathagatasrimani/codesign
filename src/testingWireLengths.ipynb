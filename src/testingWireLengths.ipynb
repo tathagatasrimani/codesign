{
 "cells": [
  {
   "cell_type": "code",
   "execution_count": 1,
   "id": "2a6b9160-edd8-4699-a38e-1333a4d047a8",
   "metadata": {},
   "outputs": [],
   "source": [
    "from hardwareModel import HardwareModel\n",
    "import networkx as nx\n",
    "import cvxpy as cp\n",
    "import numpy as np"
   ]
  },
  {
   "cell_type": "code",
   "execution_count": 2,
   "id": "3572431b-8b9d-45b9-9ce4-5534059e6cb9",
   "metadata": {},
   "outputs": [
    {
     "name": "stdout",
     "output_type": "stream",
     "text": [
      "netlist: [('Add0', {'type': 'pe', 'function': 'Add', 'in_use': 0, 'idx': 0}), ('Regs0', {'type': 'memory', 'function': 'Regs', 'in_use': 0, 'size': 1, 'idx': 0}), ('Regs1', {'type': 'memory', 'function': 'Regs', 'in_use': 0, 'size': 1, 'idx': 1}), ('Regs2', {'type': 'memory', 'function': 'Regs', 'in_use': 0, 'size': 1, 'idx': 2}), ('Mult0', {'type': 'pe', 'function': 'Mult', 'in_use': 0, 'idx': 0}), ('Eq0', {'type': 'pe', 'function': 'Eq', 'in_use': 0, 'idx': 0}), ('Buf0', {'type': 'mem', 'function': 'Buf', 'in_use': 0, 'idx': 0, 'size': 22}), ('Buf1', {'type': 'mem', 'function': 'Buf', 'in_use': 0, 'idx': 1, 'size': 22}), ('Mem0', {'type': 'mem', 'function': 'MainMem', 'in_use': 0, 'idx': 0, 'size': 1024}), ('Regs3', {'type': 'memory', 'function': 'Regs', 'in_use': 0, 'size': 1, 'idx': 3})]\n"
     ]
    }
   ],
   "source": [
    "hw = HardwareModel(cfg=\"aladdin_const_with_mem\")"
   ]
  },
  {
   "cell_type": "code",
   "execution_count": 3,
   "id": "bc3632ad-d861-4940-92af-7662f0fcb8b4",
   "metadata": {},
   "outputs": [
    {
     "name": "stdout",
     "output_type": "stream",
     "text": [
      "DiGraph with 10 nodes and 38 edges\n",
      "{'Add': 379348800.0, 'Sub': 379348800.0, 'And': 50369960.0, 'BitAnd': 50369960.0, 'BitOr': 50369960.0, 'BitXor': 50369960.0, 'Eq': 379348800.0, 'FloorDiv': 8340007000.0, 'Gt': 379348800.0, 'GtE': 379348800.0, 'Invert': 50369960.0, 'IsNot': 50369960.0, 'LShift': 24964610.0, 'Lt': 379348800.0, 'LtE': 379348800.0, 'Mod': 379348800.0, 'Mult': 8340007000.0, 'Not': 50369960.0, 'NotEq': 379348800.0, 'Or': 50369960.0, 'RShift': 24964610.0, 'Regs': 5981433.0, 'UAdd': 379348800.0, 'USub': 379348800.0, 'Buf': 0.0, 'MainMem': 5981433.0}\n"
     ]
    }
   ],
   "source": [
    "print(hw.netlist)\n",
    "print(hw.area)"
   ]
  },
  {
   "cell_type": "code",
   "execution_count": 4,
   "id": "38db670d-dd94-4898-80d4-cdba6f07e830",
   "metadata": {},
   "outputs": [
    {
     "data": {
      "text/plain": [
       "379348800.0"
      ]
     },
     "execution_count": 4,
     "metadata": {},
     "output_type": "execute_result"
    }
   ],
   "source": [
    "hw.area['Add']"
   ]
  },
  {
   "cell_type": "code",
   "execution_count": 5,
   "id": "88b36d63-6a74-4715-a204-38fdc12629b1",
   "metadata": {},
   "outputs": [
    {
     "name": "stdout",
     "output_type": "stream",
     "text": [
      "Edges: [('Add0', 'Regs0'), ('Add0', 'Regs1'), ('Add0', 'Regs2'), ('Add0', 'Mult0'), ('Add0', 'Eq0'), ('Regs0', 'Regs1'), ('Regs0', 'Add0'), ('Regs0', 'Mult0'), ('Regs0', 'Eq0'), ('Regs0', 'Buf1'), ('Regs1', 'Regs0'), ('Regs1', 'Add0'), ('Regs1', 'Mult0'), ('Regs1', 'Eq0'), ('Regs1', 'Buf1'), ('Regs2', 'Regs3'), ('Regs2', 'Add0'), ('Regs2', 'Mult0'), ('Regs2', 'Eq0'), ('Regs2', 'Buf1'), ('Mult0', 'Add0'), ('Mult0', 'Regs0'), ('Mult0', 'Regs1'), ('Mult0', 'Regs2'), ('Mult0', 'Eq0'), ('Eq0', 'Add0'), ('Eq0', 'Mult0'), ('Eq0', 'Regs0'), ('Eq0', 'Regs1'), ('Eq0', 'Regs2'), ('Buf1', 'Regs3'), ('Buf1', 'Regs0'), ('Buf1', 'Mem0'), ('Buf1', 'Regs1'), ('Buf1', 'Regs2'), ('Mem0', 'Buf1'), ('Regs3', 'Regs2'), ('Regs3', 'Buf1')]\n"
     ]
    }
   ],
   "source": [
    "digraph = hw.netlist\n",
    "nodes = digraph.nodes\n",
    "edges = digraph.edges\n",
    "#print(\"Nodes:\", list(nodes))\n",
    "print(\"Edges:\", list(edges))"
   ]
  },
  {
   "cell_type": "code",
   "execution_count": 6,
   "id": "42ab9746-a1df-42fe-9911-08741eb187e1",
   "metadata": {},
   "outputs": [
    {
     "name": "stdout",
     "output_type": "stream",
     "text": [
      "W matrix: diag_vec(reshape([[1.00]\n",
      " [1.00]\n",
      " ...\n",
      " [1.00]\n",
      " [1.00]], (10,), F), 0)\n"
     ]
    },
    {
     "ename": "DCPError",
     "evalue": "Problem does not follow DCP rules. Specifically:\nThe objective is not DCP, even though each sub-expression is.\nYou are trying to minimize a function that is concave.",
     "output_type": "error",
     "traceback": [
      "\u001b[0;31m---------------------------------------------------------------------------\u001b[0m",
      "\u001b[0;31mDCPError\u001b[0m                                  Traceback (most recent call last)",
      "Cell \u001b[0;32mIn[6], line 47\u001b[0m\n\u001b[1;32m     44\u001b[0m     constraints \u001b[38;5;241m+\u001b[39m\u001b[38;5;241m=\u001b[39m [cp\u001b[38;5;241m.\u001b[39mabs(p[i] \u001b[38;5;241m-\u001b[39m p[j]) \u001b[38;5;241m<\u001b[39m\u001b[38;5;241m=\u001b[39m l[(i, j)]]\n\u001b[1;32m     46\u001b[0m problem \u001b[38;5;241m=\u001b[39m cp\u001b[38;5;241m.\u001b[39mProblem(objective, constraints)\n\u001b[0;32m---> 47\u001b[0m \u001b[43mproblem\u001b[49m\u001b[38;5;241;43m.\u001b[39;49m\u001b[43msolve\u001b[49m\u001b[43m(\u001b[49m\u001b[43m)\u001b[49m\n",
      "File \u001b[0;32m~/opt/anaconda3/envs/codesign/lib/python3.10/site-packages/cvxpy/problems/problem.py:503\u001b[0m, in \u001b[0;36mProblem.solve\u001b[0;34m(self, *args, **kwargs)\u001b[0m\n\u001b[1;32m    501\u001b[0m \u001b[38;5;28;01melse\u001b[39;00m:\n\u001b[1;32m    502\u001b[0m     solve_func \u001b[38;5;241m=\u001b[39m Problem\u001b[38;5;241m.\u001b[39m_solve\n\u001b[0;32m--> 503\u001b[0m \u001b[38;5;28;01mreturn\u001b[39;00m \u001b[43msolve_func\u001b[49m\u001b[43m(\u001b[49m\u001b[38;5;28;43mself\u001b[39;49m\u001b[43m,\u001b[49m\u001b[43m \u001b[49m\u001b[38;5;241;43m*\u001b[39;49m\u001b[43margs\u001b[49m\u001b[43m,\u001b[49m\u001b[43m \u001b[49m\u001b[38;5;241;43m*\u001b[39;49m\u001b[38;5;241;43m*\u001b[39;49m\u001b[43mkwargs\u001b[49m\u001b[43m)\u001b[49m\n",
      "File \u001b[0;32m~/opt/anaconda3/envs/codesign/lib/python3.10/site-packages/cvxpy/problems/problem.py:1072\u001b[0m, in \u001b[0;36mProblem._solve\u001b[0;34m(self, solver, warm_start, verbose, gp, qcp, requires_grad, enforce_dpp, ignore_dpp, canon_backend, **kwargs)\u001b[0m\n\u001b[1;32m   1069\u001b[0m         \u001b[38;5;28mself\u001b[39m\u001b[38;5;241m.\u001b[39munpack(chain\u001b[38;5;241m.\u001b[39mretrieve(soln))\n\u001b[1;32m   1070\u001b[0m         \u001b[38;5;28;01mreturn\u001b[39;00m \u001b[38;5;28mself\u001b[39m\u001b[38;5;241m.\u001b[39mvalue\n\u001b[0;32m-> 1072\u001b[0m data, solving_chain, inverse_data \u001b[38;5;241m=\u001b[39m \u001b[38;5;28;43mself\u001b[39;49m\u001b[38;5;241;43m.\u001b[39;49m\u001b[43mget_problem_data\u001b[49m\u001b[43m(\u001b[49m\n\u001b[1;32m   1073\u001b[0m \u001b[43m    \u001b[49m\u001b[43msolver\u001b[49m\u001b[43m,\u001b[49m\u001b[43m \u001b[49m\u001b[43mgp\u001b[49m\u001b[43m,\u001b[49m\u001b[43m \u001b[49m\u001b[43menforce_dpp\u001b[49m\u001b[43m,\u001b[49m\u001b[43m \u001b[49m\u001b[43mignore_dpp\u001b[49m\u001b[43m,\u001b[49m\u001b[43m \u001b[49m\u001b[43mverbose\u001b[49m\u001b[43m,\u001b[49m\u001b[43m \u001b[49m\u001b[43mcanon_backend\u001b[49m\u001b[43m,\u001b[49m\u001b[43m \u001b[49m\u001b[43mkwargs\u001b[49m\n\u001b[1;32m   1074\u001b[0m \u001b[43m\u001b[49m\u001b[43m)\u001b[49m\n\u001b[1;32m   1076\u001b[0m \u001b[38;5;28;01mif\u001b[39;00m verbose:\n\u001b[1;32m   1077\u001b[0m     \u001b[38;5;28mprint\u001b[39m(_NUM_SOLVER_STR)\n",
      "File \u001b[0;32m~/opt/anaconda3/envs/codesign/lib/python3.10/site-packages/cvxpy/problems/problem.py:646\u001b[0m, in \u001b[0;36mProblem.get_problem_data\u001b[0;34m(self, solver, gp, enforce_dpp, ignore_dpp, verbose, canon_backend, solver_opts)\u001b[0m\n\u001b[1;32m    644\u001b[0m \u001b[38;5;28;01mif\u001b[39;00m key \u001b[38;5;241m!=\u001b[39m \u001b[38;5;28mself\u001b[39m\u001b[38;5;241m.\u001b[39m_cache\u001b[38;5;241m.\u001b[39mkey:\n\u001b[1;32m    645\u001b[0m     \u001b[38;5;28mself\u001b[39m\u001b[38;5;241m.\u001b[39m_cache\u001b[38;5;241m.\u001b[39minvalidate()\n\u001b[0;32m--> 646\u001b[0m     solving_chain \u001b[38;5;241m=\u001b[39m \u001b[38;5;28;43mself\u001b[39;49m\u001b[38;5;241;43m.\u001b[39;49m\u001b[43m_construct_chain\u001b[49m\u001b[43m(\u001b[49m\n\u001b[1;32m    647\u001b[0m \u001b[43m        \u001b[49m\u001b[43msolver\u001b[49m\u001b[38;5;241;43m=\u001b[39;49m\u001b[43msolver\u001b[49m\u001b[43m,\u001b[49m\u001b[43m \u001b[49m\u001b[43mgp\u001b[49m\u001b[38;5;241;43m=\u001b[39;49m\u001b[43mgp\u001b[49m\u001b[43m,\u001b[49m\n\u001b[1;32m    648\u001b[0m \u001b[43m        \u001b[49m\u001b[43menforce_dpp\u001b[49m\u001b[38;5;241;43m=\u001b[39;49m\u001b[43menforce_dpp\u001b[49m\u001b[43m,\u001b[49m\n\u001b[1;32m    649\u001b[0m \u001b[43m        \u001b[49m\u001b[43mignore_dpp\u001b[49m\u001b[38;5;241;43m=\u001b[39;49m\u001b[43mignore_dpp\u001b[49m\u001b[43m,\u001b[49m\n\u001b[1;32m    650\u001b[0m \u001b[43m        \u001b[49m\u001b[43mcanon_backend\u001b[49m\u001b[38;5;241;43m=\u001b[39;49m\u001b[43mcanon_backend\u001b[49m\u001b[43m,\u001b[49m\n\u001b[1;32m    651\u001b[0m \u001b[43m        \u001b[49m\u001b[43msolver_opts\u001b[49m\u001b[38;5;241;43m=\u001b[39;49m\u001b[43msolver_opts\u001b[49m\u001b[43m)\u001b[49m\n\u001b[1;32m    652\u001b[0m     \u001b[38;5;28mself\u001b[39m\u001b[38;5;241m.\u001b[39m_cache\u001b[38;5;241m.\u001b[39mkey \u001b[38;5;241m=\u001b[39m key\n\u001b[1;32m    653\u001b[0m     \u001b[38;5;28mself\u001b[39m\u001b[38;5;241m.\u001b[39m_cache\u001b[38;5;241m.\u001b[39msolving_chain \u001b[38;5;241m=\u001b[39m solving_chain\n",
      "File \u001b[0;32m~/opt/anaconda3/envs/codesign/lib/python3.10/site-packages/cvxpy/problems/problem.py:898\u001b[0m, in \u001b[0;36mProblem._construct_chain\u001b[0;34m(self, solver, gp, enforce_dpp, ignore_dpp, canon_backend, solver_opts)\u001b[0m\n\u001b[1;32m    896\u001b[0m candidate_solvers \u001b[38;5;241m=\u001b[39m \u001b[38;5;28mself\u001b[39m\u001b[38;5;241m.\u001b[39m_find_candidate_solvers(solver\u001b[38;5;241m=\u001b[39msolver, gp\u001b[38;5;241m=\u001b[39mgp)\n\u001b[1;32m    897\u001b[0m \u001b[38;5;28mself\u001b[39m\u001b[38;5;241m.\u001b[39m_sort_candidate_solvers(candidate_solvers)\n\u001b[0;32m--> 898\u001b[0m \u001b[38;5;28;01mreturn\u001b[39;00m \u001b[43mconstruct_solving_chain\u001b[49m\u001b[43m(\u001b[49m\u001b[38;5;28;43mself\u001b[39;49m\u001b[43m,\u001b[49m\u001b[43m \u001b[49m\u001b[43mcandidate_solvers\u001b[49m\u001b[43m,\u001b[49m\u001b[43m \u001b[49m\u001b[43mgp\u001b[49m\u001b[38;5;241;43m=\u001b[39;49m\u001b[43mgp\u001b[49m\u001b[43m,\u001b[49m\n\u001b[1;32m    899\u001b[0m \u001b[43m                               \u001b[49m\u001b[43menforce_dpp\u001b[49m\u001b[38;5;241;43m=\u001b[39;49m\u001b[43menforce_dpp\u001b[49m\u001b[43m,\u001b[49m\n\u001b[1;32m    900\u001b[0m \u001b[43m                               \u001b[49m\u001b[43mignore_dpp\u001b[49m\u001b[38;5;241;43m=\u001b[39;49m\u001b[43mignore_dpp\u001b[49m\u001b[43m,\u001b[49m\n\u001b[1;32m    901\u001b[0m \u001b[43m                               \u001b[49m\u001b[43mcanon_backend\u001b[49m\u001b[38;5;241;43m=\u001b[39;49m\u001b[43mcanon_backend\u001b[49m\u001b[43m,\u001b[49m\n\u001b[1;32m    902\u001b[0m \u001b[43m                               \u001b[49m\u001b[43msolver_opts\u001b[49m\u001b[38;5;241;43m=\u001b[39;49m\u001b[43msolver_opts\u001b[49m\u001b[43m,\u001b[49m\n\u001b[1;32m    903\u001b[0m \u001b[43m                               \u001b[49m\u001b[43mspecified_solver\u001b[49m\u001b[38;5;241;43m=\u001b[39;49m\u001b[43msolver\u001b[49m\u001b[43m)\u001b[49m\n",
      "File \u001b[0;32m~/opt/anaconda3/envs/codesign/lib/python3.10/site-packages/cvxpy/reductions/solvers/solving_chain.py:217\u001b[0m, in \u001b[0;36mconstruct_solving_chain\u001b[0;34m(problem, candidates, gp, enforce_dpp, ignore_dpp, canon_backend, solver_opts, specified_solver)\u001b[0m\n\u001b[1;32m    215\u001b[0m \u001b[38;5;28;01mif\u001b[39;00m \u001b[38;5;28mlen\u001b[39m(problem\u001b[38;5;241m.\u001b[39mvariables()) \u001b[38;5;241m==\u001b[39m \u001b[38;5;241m0\u001b[39m:\n\u001b[1;32m    216\u001b[0m     \u001b[38;5;28;01mreturn\u001b[39;00m SolvingChain(reductions\u001b[38;5;241m=\u001b[39m[ConstantSolver()])\n\u001b[0;32m--> 217\u001b[0m reductions \u001b[38;5;241m=\u001b[39m \u001b[43m_reductions_for_problem_class\u001b[49m\u001b[43m(\u001b[49m\u001b[43mproblem\u001b[49m\u001b[43m,\u001b[49m\u001b[43m \u001b[49m\u001b[43mcandidates\u001b[49m\u001b[43m,\u001b[49m\u001b[43m \u001b[49m\u001b[43mgp\u001b[49m\u001b[43m,\u001b[49m\u001b[43m \u001b[49m\u001b[43msolver_opts\u001b[49m\u001b[43m)\u001b[49m\n\u001b[1;32m    219\u001b[0m \u001b[38;5;66;03m# Process DPP status of the problem.\u001b[39;00m\n\u001b[1;32m    220\u001b[0m dpp_context \u001b[38;5;241m=\u001b[39m \u001b[38;5;124m'\u001b[39m\u001b[38;5;124mdcp\u001b[39m\u001b[38;5;124m'\u001b[39m \u001b[38;5;28;01mif\u001b[39;00m \u001b[38;5;129;01mnot\u001b[39;00m gp \u001b[38;5;28;01melse\u001b[39;00m \u001b[38;5;124m'\u001b[39m\u001b[38;5;124mdgp\u001b[39m\u001b[38;5;124m'\u001b[39m\n",
      "File \u001b[0;32m~/opt/anaconda3/envs/codesign/lib/python3.10/site-packages/cvxpy/reductions/solvers/solving_chain.py:132\u001b[0m, in \u001b[0;36m_reductions_for_problem_class\u001b[0;34m(problem, candidates, gp, solver_opts)\u001b[0m\n\u001b[1;32m    129\u001b[0m     \u001b[38;5;28;01melif\u001b[39;00m problem\u001b[38;5;241m.\u001b[39mis_dqcp():\n\u001b[1;32m    130\u001b[0m         append \u001b[38;5;241m+\u001b[39m\u001b[38;5;241m=\u001b[39m (\u001b[38;5;124m\"\u001b[39m\u001b[38;5;130;01m\\n\u001b[39;00m\u001b[38;5;124mHowever, the problem does follow DQCP rules. \u001b[39m\u001b[38;5;124m\"\u001b[39m\n\u001b[1;32m    131\u001b[0m                    \u001b[38;5;124m\"\u001b[39m\u001b[38;5;124mConsider calling solve() with `qcp=True`.\u001b[39m\u001b[38;5;124m\"\u001b[39m)\n\u001b[0;32m--> 132\u001b[0m     \u001b[38;5;28;01mraise\u001b[39;00m DCPError(\n\u001b[1;32m    133\u001b[0m         \u001b[38;5;124m\"\u001b[39m\u001b[38;5;124mProblem does not follow DCP rules. Specifically:\u001b[39m\u001b[38;5;130;01m\\n\u001b[39;00m\u001b[38;5;124m\"\u001b[39m \u001b[38;5;241m+\u001b[39m append)\n\u001b[1;32m    134\u001b[0m \u001b[38;5;28;01melif\u001b[39;00m gp \u001b[38;5;129;01mand\u001b[39;00m \u001b[38;5;129;01mnot\u001b[39;00m problem\u001b[38;5;241m.\u001b[39mis_dgp():\n\u001b[1;32m    135\u001b[0m     append \u001b[38;5;241m=\u001b[39m build_non_disciplined_error_msg(problem, \u001b[38;5;124m'\u001b[39m\u001b[38;5;124mDGP\u001b[39m\u001b[38;5;124m'\u001b[39m)\n",
      "\u001b[0;31mDCPError\u001b[0m: Problem does not follow DCP rules. Specifically:\nThe objective is not DCP, even though each sub-expression is.\nYou are trying to minimize a function that is concave."
     ]
    }
   ],
   "source": [
    "node_to_index = {node: i for i, node in enumerate(nodes)}\n",
    "n = len(nodes) \n",
    "E = [(node_to_index[src], node_to_index[dst]) for src, dst in edges]\n",
    "\n",
    "# Some fixed lij values for each edge (will slowly decrease the value until it doesn't work)\n",
    "l = {edge: 10 for edge in E}\n",
    "\n",
    "# Random weights for example, you may replace or adjust these\n",
    "#w = np.random.randn(n) #fix this\n",
    "\n",
    "w = np.asarray([[1] for _ in node_to_index])\n",
    "W = cp.diag(w)\n",
    "print(f'W matrix: {W}')\n",
    "#w = np.abs(np.random.randn(n))\n",
    "#w = list(hw.area.values())\n",
    "\n",
    "p = cp.Variable( (n, 2) )\n",
    "\n",
    "\n",
    "#objective = cp.Maximize(cp.quad_form(p, np.diag(w)))\n",
    "\n",
    "# sum(diag(W(pp^T)) (Implement first)\n",
    "\n",
    "#objective = cp.Maximize( w[0] * (cp.norm(p[0]) ** 2) ) \n",
    "# wDiag = cp.diag(w)\n",
    "# product = p @ p.T\n",
    "# objective = cp.Maximize(cp.sum(cp.multiply(wDiag, product)))\n",
    "\n",
    "# pSquared = np.array([cp.norm(p[i]) for i in range(n)]) ** 2\n",
    "# mult = cp.multiply(w, pSquared)\n",
    "# objective.cp.Maximize(sum(mult))\n",
    "\n",
    "# pPT = p @ p.T\n",
    "# mult = w.T @ pPT\n",
    "# diagonals = cp.diag(w.T @ p @ p.T)\n",
    "\n",
    "#objective = cp.Minimize(-cp.sum(cp.diag(p @ p.T)))\n",
    "objective = cp.Minimize(-sum([w[i] * (cp.norm(p[i]) ** 2) for i in range(len(w))]))\n",
    "\n",
    "constraints = [cp.sum(cp.multiply(w, p)) == 0]  # Sum of w_i * p_i = 0\n",
    "\n",
    "# Adding |p_i - p_j| <= l_ij constraints for each (i, j) in E\n",
    "for (i, j) in E:\n",
    "    constraints += [cp.abs(p[i] - p[j]) <= l[(i, j)]]\n",
    "\n",
    "problem = cp.Problem(objective, constraints)\n",
    "problem.solve()"
   ]
  },
  {
   "cell_type": "code",
   "execution_count": 10,
   "id": "7e7821ff-1fe5-4dca-afc4-2545292710f5",
   "metadata": {},
   "outputs": [],
   "source": [
    "def compute_Kij(i, j, n):\n",
    "    # Create the unit vectors e_i and e_j\n",
    "    e_i = np.zeros(n)\n",
    "    e_j = np.zeros(n)\n",
    "    e_i[i] = 1\n",
    "    e_j[j] = 1\n",
    "    \n",
    "    # Compute the difference\n",
    "    diff = e_i - e_j\n",
    "    \n",
    "    # Compute the outer product of the difference with itself\n",
    "    Kij = np.outer(diff, diff)\n",
    "    \n",
    "    return Kij"
   ]
  },
  {
   "cell_type": "code",
   "execution_count": 11,
   "id": "e9d2151a-e2f2-4b6a-a628-e4c7b14546e0",
   "metadata": {},
   "outputs": [
    {
     "data": {
      "text/plain": [
       "array([[ 1.,  0.,  0.,  0.,  0., -1.],\n",
       "       [ 0.,  0.,  0.,  0.,  0., -0.],\n",
       "       [ 0.,  0.,  0.,  0.,  0., -0.],\n",
       "       [ 0.,  0.,  0.,  0.,  0., -0.],\n",
       "       [ 0.,  0.,  0.,  0.,  0., -0.],\n",
       "       [-1., -0., -0., -0., -0.,  1.]])"
      ]
     },
     "execution_count": 11,
     "metadata": {},
     "output_type": "execute_result"
    }
   ],
   "source": [
    "compute_Kij(0, 5, 6)"
   ]
  },
  {
   "cell_type": "code",
   "execution_count": 43,
   "id": "f5c6c483-a472-478b-8296-eb6089bb2541",
   "metadata": {
    "scrolled": true
   },
   "outputs": [
    {
     "name": "stdout",
     "output_type": "stream",
     "text": [
      "[[ 379348800]\n",
      " [   5981433]\n",
      " [   5981433]\n",
      " [   5981433]\n",
      " [8340007000]\n",
      " [ 379348800]\n",
      " [         0]\n",
      " [         0]\n",
      " [   5981433]\n",
      " [   5981433]]\n",
      "['Add0', 'Regs0', 'Regs1', 'Regs2', 'Mult0', 'Eq0', 'Buf0', 'Buf1', 'Mem0', 'Regs3']\n",
      "{'Add': 379348800.0, 'Sub': 379348800.0, 'And': 50369960.0, 'BitAnd': 50369960.0, 'BitOr': 50369960.0, 'BitXor': 50369960.0, 'Eq': 379348800.0, 'FloorDiv': 8340007000.0, 'Gt': 379348800.0, 'GtE': 379348800.0, 'Invert': 50369960.0, 'IsNot': 50369960.0, 'LShift': 24964610.0, 'Lt': 379348800.0, 'LtE': 379348800.0, 'Mod': 379348800.0, 'Mult': 8340007000.0, 'Not': 50369960.0, 'NotEq': 379348800.0, 'Or': 50369960.0, 'RShift': 24964610.0, 'Regs': 5981433.0, 'UAdd': 379348800.0, 'USub': 379348800.0, 'Buf': 0.0, 'MainMem': 5981433.0}\n",
      "The optimal value is inf\n",
      "A solution t is None\n",
      "A solution Q is None\n"
     ]
    }
   ],
   "source": [
    "node_to_index = {node: i for i, node in enumerate(nodes)}\n",
    "# E = []\n",
    "\n",
    "# for src, dst in edges:\n",
    "#     E.append((node_to_index[src], node_to_index[dst]))\n",
    "    \n",
    "\n",
    "E = [(node_to_index[src], node_to_index[dst]) for src, dst in edges]\n",
    "n = len(nodes)\n",
    "w = np.asarray([[0] for _ in node_to_index])\n",
    "\n",
    "for node in nodes:\n",
    "    index = node_to_index[node]\n",
    "    updatedName = node[:len(node) - 1]\n",
    "    updatedName = 'MainMem' if updatedName == 'Mem' else updatedName\n",
    "    w[index, 0] = hw.area[updatedName]\n",
    "\n",
    "print(w)\n",
    "\n",
    "print(nodes)\n",
    "print(hw.area)\n",
    "\n",
    "#w = np.asarray([[1] for _ in node_to_index])\n",
    "diag_w = cp.diag(w)\n",
    "wwT = w @ w.T\n",
    "Ti = 4.7\n",
    "di = 1\n",
    "alpha = 1\n",
    "Q = cp.Variable( (n, n), PSD=True)\n",
    "t = cp.Variable(n)\n",
    "\n",
    "objective = cp.Maximize(cp.sum(cp.multiply(diag_w, Q))) \n",
    "\n",
    "constraints = [cp.sum(cp.multiply(wwT, Q)) == 0, Q >= 0] \n",
    "\n",
    "for i in range(n):\n",
    "    constraints += [t[i] <= Ti]\n",
    "    \n",
    "for pair in E:\n",
    "    if pair[0] == i:\n",
    "        constraints += [t[i] + di + alpha * cp.sum(cp.multiply(compute_Kij(i, pair[1], n), Q)) <= t[pair[1]]]\n",
    "\n",
    "prob = cp.Problem(objective, constraints)\n",
    "prob.solve(solver='SCS', verbose=False)\n",
    "\n",
    "print(\"The optimal value is\", prob.value)\n",
    "print(\"A solution t is\", t.value)\n",
    "print(\"A solution Q is\", Q.value)"
   ]
  },
  {
   "cell_type": "code",
   "execution_count": null,
   "id": "d63ecd33-d127-4417-a119-fb2dd6746684",
   "metadata": {},
   "outputs": [],
   "source": []
  },
  {
   "cell_type": "code",
   "execution_count": null,
   "id": "9859faf8-b099-40fe-8852-3431cd3aabfd",
   "metadata": {},
   "outputs": [],
   "source": []
  }
 ],
 "metadata": {
  "kernelspec": {
   "display_name": "Python 3 (ipykernel)",
   "language": "python",
   "name": "python3"
  },
  "language_info": {
   "codemirror_mode": {
    "name": "ipython",
    "version": 3
   },
   "file_extension": ".py",
   "mimetype": "text/x-python",
   "name": "python",
   "nbconvert_exporter": "python",
   "pygments_lexer": "ipython3",
   "version": "3.10.13"
  }
 },
 "nbformat": 4,
 "nbformat_minor": 5
}
