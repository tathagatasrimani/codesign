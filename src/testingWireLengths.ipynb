{
 "cells": [
  {
   "cell_type": "code",
   "execution_count": 12,
   "id": "2a6b9160-edd8-4699-a38e-1333a4d047a8",
   "metadata": {},
   "outputs": [],
   "source": [
    "from hardwareModel import HardwareModel\n",
    "import networkx as nx\n",
    "import cvxpy as cp\n",
    "import numpy as np"
   ]
  },
  {
   "cell_type": "code",
   "execution_count": 13,
   "id": "3572431b-8b9d-45b9-9ce4-5534059e6cb9",
   "metadata": {},
   "outputs": [
    {
     "name": "stdout",
     "output_type": "stream",
     "text": [
      "netlist: [('Add0', {'type': 'pe', 'function': 'Add', 'in_use': 0, 'idx': 0}), ('Regs0', {'type': 'memory', 'function': 'Regs', 'in_use': 0, 'size': 1, 'idx': 0}), ('Regs1', {'type': 'memory', 'function': 'Regs', 'in_use': 0, 'size': 1, 'idx': 1}), ('Regs2', {'type': 'memory', 'function': 'Regs', 'in_use': 0, 'size': 1, 'idx': 2}), ('Mult0', {'type': 'pe', 'function': 'Mult', 'in_use': 0, 'idx': 0}), ('Eq0', {'type': 'pe', 'function': 'Eq', 'in_use': 0, 'idx': 0}), ('Buf0', {'type': 'mem', 'function': 'Buf', 'in_use': 0, 'idx': 0, 'size': 22}), ('Buf1', {'type': 'mem', 'function': 'Buf', 'in_use': 0, 'idx': 1, 'size': 22}), ('Mem0', {'type': 'mem', 'function': 'MainMem', 'in_use': 0, 'idx': 0, 'size': 1024}), ('Regs3', {'type': 'memory', 'function': 'Regs', 'in_use': 0, 'size': 1, 'idx': 3})]\n"
     ]
    }
   ],
   "source": [
    "hw = HardwareModel(cfg=\"aladdin_const_with_mem\")"
   ]
  },
  {
   "cell_type": "code",
   "execution_count": 14,
   "id": "bc3632ad-d861-4940-92af-7662f0fcb8b4",
   "metadata": {},
   "outputs": [
    {
     "name": "stdout",
     "output_type": "stream",
     "text": [
      "DiGraph with 10 nodes and 38 edges\n",
      "{'Add': 379348800.0, 'Sub': 379348800.0, 'And': 50369960.0, 'BitAnd': 50369960.0, 'BitOr': 50369960.0, 'BitXor': 50369960.0, 'Eq': 379348800.0, 'FloorDiv': 8340007000.0, 'Gt': 379348800.0, 'GtE': 379348800.0, 'Invert': 50369960.0, 'IsNot': 50369960.0, 'LShift': 24964610.0, 'Lt': 379348800.0, 'LtE': 379348800.0, 'Mod': 379348800.0, 'Mult': 8340007000.0, 'Not': 50369960.0, 'NotEq': 379348800.0, 'Or': 50369960.0, 'RShift': 24964610.0, 'Regs': 5981433.0, 'UAdd': 379348800.0, 'USub': 379348800.0, 'Buf': 0.0, 'MainMem': 5981433.0}\n"
     ]
    }
   ],
   "source": [
    "print(hw.netlist)\n",
    "print(hw.area)"
   ]
  },
  {
   "cell_type": "code",
   "execution_count": 15,
   "id": "38db670d-dd94-4898-80d4-cdba6f07e830",
   "metadata": {},
   "outputs": [
    {
     "data": {
      "text/plain": [
       "379348800.0"
      ]
     },
     "execution_count": 15,
     "metadata": {},
     "output_type": "execute_result"
    }
   ],
   "source": [
    "hw.area['Add']"
   ]
  },
  {
   "cell_type": "code",
   "execution_count": 16,
   "id": "1079d5e2-36e6-40bd-ae1d-e635a0452b2e",
   "metadata": {},
   "outputs": [],
   "source": [
    "newGraph = nx.DiGraph()\n",
    "newGraph.add_nodes_from([(1, {'function' : 'Mult'}), (2, {'function' : 'Add'})])\n",
    "newGraph.add_edges_from([(1, 2)])"
   ]
  },
  {
   "cell_type": "code",
   "execution_count": 17,
   "id": "88b36d63-6a74-4715-a204-38fdc12629b1",
   "metadata": {},
   "outputs": [
    {
     "data": {
      "text/plain": [
       "NodeDataView({1: {'function': 'Mult'}, 2: {'function': 'Add'}})"
      ]
     },
     "execution_count": 17,
     "metadata": {},
     "output_type": "execute_result"
    }
   ],
   "source": [
    "#digraph = hw.netlist\n",
    "digraph = newGraph\n",
    "nodes = digraph.nodes\n",
    "edges = digraph.edges\n",
    "#print(\"Nodes:\", list(nodes))\n",
    "#print(\"Edges:\", list(edges))\n",
    "digraph.nodes.data(True)\n",
    "#digraph.nodes.data['function']"
   ]
  },
  {
   "cell_type": "code",
   "execution_count": 18,
   "id": "42ab9746-a1df-42fe-9911-08741eb187e1",
   "metadata": {},
   "outputs": [
    {
     "name": "stdout",
     "output_type": "stream",
     "text": [
      "W matrix: diag_vec(reshape([[1.00]\n",
      " [1.00]], (2,), F), 0)\n"
     ]
    },
    {
     "ename": "DCPError",
     "evalue": "Problem does not follow DCP rules. Specifically:\nThe objective is not DCP, even though each sub-expression is.\nYou are trying to minimize a function that is concave.",
     "output_type": "error",
     "traceback": [
      "\u001b[0;31m---------------------------------------------------------------------------\u001b[0m",
      "\u001b[0;31mDCPError\u001b[0m                                  Traceback (most recent call last)",
      "Cell \u001b[0;32mIn[18], line 47\u001b[0m\n\u001b[1;32m     44\u001b[0m     constraints \u001b[38;5;241m+\u001b[39m\u001b[38;5;241m=\u001b[39m [cp\u001b[38;5;241m.\u001b[39mabs(p[i] \u001b[38;5;241m-\u001b[39m p[j]) \u001b[38;5;241m<\u001b[39m\u001b[38;5;241m=\u001b[39m l[(i, j)]]\n\u001b[1;32m     46\u001b[0m problem \u001b[38;5;241m=\u001b[39m cp\u001b[38;5;241m.\u001b[39mProblem(objective, constraints)\n\u001b[0;32m---> 47\u001b[0m \u001b[43mproblem\u001b[49m\u001b[38;5;241;43m.\u001b[39;49m\u001b[43msolve\u001b[49m\u001b[43m(\u001b[49m\u001b[43m)\u001b[49m\n",
      "File \u001b[0;32m~/opt/anaconda3/envs/codesign/lib/python3.10/site-packages/cvxpy/problems/problem.py:503\u001b[0m, in \u001b[0;36mProblem.solve\u001b[0;34m(self, *args, **kwargs)\u001b[0m\n\u001b[1;32m    501\u001b[0m \u001b[38;5;28;01melse\u001b[39;00m:\n\u001b[1;32m    502\u001b[0m     solve_func \u001b[38;5;241m=\u001b[39m Problem\u001b[38;5;241m.\u001b[39m_solve\n\u001b[0;32m--> 503\u001b[0m \u001b[38;5;28;01mreturn\u001b[39;00m \u001b[43msolve_func\u001b[49m\u001b[43m(\u001b[49m\u001b[38;5;28;43mself\u001b[39;49m\u001b[43m,\u001b[49m\u001b[43m \u001b[49m\u001b[38;5;241;43m*\u001b[39;49m\u001b[43margs\u001b[49m\u001b[43m,\u001b[49m\u001b[43m \u001b[49m\u001b[38;5;241;43m*\u001b[39;49m\u001b[38;5;241;43m*\u001b[39;49m\u001b[43mkwargs\u001b[49m\u001b[43m)\u001b[49m\n",
      "File \u001b[0;32m~/opt/anaconda3/envs/codesign/lib/python3.10/site-packages/cvxpy/problems/problem.py:1072\u001b[0m, in \u001b[0;36mProblem._solve\u001b[0;34m(self, solver, warm_start, verbose, gp, qcp, requires_grad, enforce_dpp, ignore_dpp, canon_backend, **kwargs)\u001b[0m\n\u001b[1;32m   1069\u001b[0m         \u001b[38;5;28mself\u001b[39m\u001b[38;5;241m.\u001b[39munpack(chain\u001b[38;5;241m.\u001b[39mretrieve(soln))\n\u001b[1;32m   1070\u001b[0m         \u001b[38;5;28;01mreturn\u001b[39;00m \u001b[38;5;28mself\u001b[39m\u001b[38;5;241m.\u001b[39mvalue\n\u001b[0;32m-> 1072\u001b[0m data, solving_chain, inverse_data \u001b[38;5;241m=\u001b[39m \u001b[38;5;28;43mself\u001b[39;49m\u001b[38;5;241;43m.\u001b[39;49m\u001b[43mget_problem_data\u001b[49m\u001b[43m(\u001b[49m\n\u001b[1;32m   1073\u001b[0m \u001b[43m    \u001b[49m\u001b[43msolver\u001b[49m\u001b[43m,\u001b[49m\u001b[43m \u001b[49m\u001b[43mgp\u001b[49m\u001b[43m,\u001b[49m\u001b[43m \u001b[49m\u001b[43menforce_dpp\u001b[49m\u001b[43m,\u001b[49m\u001b[43m \u001b[49m\u001b[43mignore_dpp\u001b[49m\u001b[43m,\u001b[49m\u001b[43m \u001b[49m\u001b[43mverbose\u001b[49m\u001b[43m,\u001b[49m\u001b[43m \u001b[49m\u001b[43mcanon_backend\u001b[49m\u001b[43m,\u001b[49m\u001b[43m \u001b[49m\u001b[43mkwargs\u001b[49m\n\u001b[1;32m   1074\u001b[0m \u001b[43m\u001b[49m\u001b[43m)\u001b[49m\n\u001b[1;32m   1076\u001b[0m \u001b[38;5;28;01mif\u001b[39;00m verbose:\n\u001b[1;32m   1077\u001b[0m     \u001b[38;5;28mprint\u001b[39m(_NUM_SOLVER_STR)\n",
      "File \u001b[0;32m~/opt/anaconda3/envs/codesign/lib/python3.10/site-packages/cvxpy/problems/problem.py:646\u001b[0m, in \u001b[0;36mProblem.get_problem_data\u001b[0;34m(self, solver, gp, enforce_dpp, ignore_dpp, verbose, canon_backend, solver_opts)\u001b[0m\n\u001b[1;32m    644\u001b[0m \u001b[38;5;28;01mif\u001b[39;00m key \u001b[38;5;241m!=\u001b[39m \u001b[38;5;28mself\u001b[39m\u001b[38;5;241m.\u001b[39m_cache\u001b[38;5;241m.\u001b[39mkey:\n\u001b[1;32m    645\u001b[0m     \u001b[38;5;28mself\u001b[39m\u001b[38;5;241m.\u001b[39m_cache\u001b[38;5;241m.\u001b[39minvalidate()\n\u001b[0;32m--> 646\u001b[0m     solving_chain \u001b[38;5;241m=\u001b[39m \u001b[38;5;28;43mself\u001b[39;49m\u001b[38;5;241;43m.\u001b[39;49m\u001b[43m_construct_chain\u001b[49m\u001b[43m(\u001b[49m\n\u001b[1;32m    647\u001b[0m \u001b[43m        \u001b[49m\u001b[43msolver\u001b[49m\u001b[38;5;241;43m=\u001b[39;49m\u001b[43msolver\u001b[49m\u001b[43m,\u001b[49m\u001b[43m \u001b[49m\u001b[43mgp\u001b[49m\u001b[38;5;241;43m=\u001b[39;49m\u001b[43mgp\u001b[49m\u001b[43m,\u001b[49m\n\u001b[1;32m    648\u001b[0m \u001b[43m        \u001b[49m\u001b[43menforce_dpp\u001b[49m\u001b[38;5;241;43m=\u001b[39;49m\u001b[43menforce_dpp\u001b[49m\u001b[43m,\u001b[49m\n\u001b[1;32m    649\u001b[0m \u001b[43m        \u001b[49m\u001b[43mignore_dpp\u001b[49m\u001b[38;5;241;43m=\u001b[39;49m\u001b[43mignore_dpp\u001b[49m\u001b[43m,\u001b[49m\n\u001b[1;32m    650\u001b[0m \u001b[43m        \u001b[49m\u001b[43mcanon_backend\u001b[49m\u001b[38;5;241;43m=\u001b[39;49m\u001b[43mcanon_backend\u001b[49m\u001b[43m,\u001b[49m\n\u001b[1;32m    651\u001b[0m \u001b[43m        \u001b[49m\u001b[43msolver_opts\u001b[49m\u001b[38;5;241;43m=\u001b[39;49m\u001b[43msolver_opts\u001b[49m\u001b[43m)\u001b[49m\n\u001b[1;32m    652\u001b[0m     \u001b[38;5;28mself\u001b[39m\u001b[38;5;241m.\u001b[39m_cache\u001b[38;5;241m.\u001b[39mkey \u001b[38;5;241m=\u001b[39m key\n\u001b[1;32m    653\u001b[0m     \u001b[38;5;28mself\u001b[39m\u001b[38;5;241m.\u001b[39m_cache\u001b[38;5;241m.\u001b[39msolving_chain \u001b[38;5;241m=\u001b[39m solving_chain\n",
      "File \u001b[0;32m~/opt/anaconda3/envs/codesign/lib/python3.10/site-packages/cvxpy/problems/problem.py:898\u001b[0m, in \u001b[0;36mProblem._construct_chain\u001b[0;34m(self, solver, gp, enforce_dpp, ignore_dpp, canon_backend, solver_opts)\u001b[0m\n\u001b[1;32m    896\u001b[0m candidate_solvers \u001b[38;5;241m=\u001b[39m \u001b[38;5;28mself\u001b[39m\u001b[38;5;241m.\u001b[39m_find_candidate_solvers(solver\u001b[38;5;241m=\u001b[39msolver, gp\u001b[38;5;241m=\u001b[39mgp)\n\u001b[1;32m    897\u001b[0m \u001b[38;5;28mself\u001b[39m\u001b[38;5;241m.\u001b[39m_sort_candidate_solvers(candidate_solvers)\n\u001b[0;32m--> 898\u001b[0m \u001b[38;5;28;01mreturn\u001b[39;00m \u001b[43mconstruct_solving_chain\u001b[49m\u001b[43m(\u001b[49m\u001b[38;5;28;43mself\u001b[39;49m\u001b[43m,\u001b[49m\u001b[43m \u001b[49m\u001b[43mcandidate_solvers\u001b[49m\u001b[43m,\u001b[49m\u001b[43m \u001b[49m\u001b[43mgp\u001b[49m\u001b[38;5;241;43m=\u001b[39;49m\u001b[43mgp\u001b[49m\u001b[43m,\u001b[49m\n\u001b[1;32m    899\u001b[0m \u001b[43m                               \u001b[49m\u001b[43menforce_dpp\u001b[49m\u001b[38;5;241;43m=\u001b[39;49m\u001b[43menforce_dpp\u001b[49m\u001b[43m,\u001b[49m\n\u001b[1;32m    900\u001b[0m \u001b[43m                               \u001b[49m\u001b[43mignore_dpp\u001b[49m\u001b[38;5;241;43m=\u001b[39;49m\u001b[43mignore_dpp\u001b[49m\u001b[43m,\u001b[49m\n\u001b[1;32m    901\u001b[0m \u001b[43m                               \u001b[49m\u001b[43mcanon_backend\u001b[49m\u001b[38;5;241;43m=\u001b[39;49m\u001b[43mcanon_backend\u001b[49m\u001b[43m,\u001b[49m\n\u001b[1;32m    902\u001b[0m \u001b[43m                               \u001b[49m\u001b[43msolver_opts\u001b[49m\u001b[38;5;241;43m=\u001b[39;49m\u001b[43msolver_opts\u001b[49m\u001b[43m,\u001b[49m\n\u001b[1;32m    903\u001b[0m \u001b[43m                               \u001b[49m\u001b[43mspecified_solver\u001b[49m\u001b[38;5;241;43m=\u001b[39;49m\u001b[43msolver\u001b[49m\u001b[43m)\u001b[49m\n",
      "File \u001b[0;32m~/opt/anaconda3/envs/codesign/lib/python3.10/site-packages/cvxpy/reductions/solvers/solving_chain.py:217\u001b[0m, in \u001b[0;36mconstruct_solving_chain\u001b[0;34m(problem, candidates, gp, enforce_dpp, ignore_dpp, canon_backend, solver_opts, specified_solver)\u001b[0m\n\u001b[1;32m    215\u001b[0m \u001b[38;5;28;01mif\u001b[39;00m \u001b[38;5;28mlen\u001b[39m(problem\u001b[38;5;241m.\u001b[39mvariables()) \u001b[38;5;241m==\u001b[39m \u001b[38;5;241m0\u001b[39m:\n\u001b[1;32m    216\u001b[0m     \u001b[38;5;28;01mreturn\u001b[39;00m SolvingChain(reductions\u001b[38;5;241m=\u001b[39m[ConstantSolver()])\n\u001b[0;32m--> 217\u001b[0m reductions \u001b[38;5;241m=\u001b[39m \u001b[43m_reductions_for_problem_class\u001b[49m\u001b[43m(\u001b[49m\u001b[43mproblem\u001b[49m\u001b[43m,\u001b[49m\u001b[43m \u001b[49m\u001b[43mcandidates\u001b[49m\u001b[43m,\u001b[49m\u001b[43m \u001b[49m\u001b[43mgp\u001b[49m\u001b[43m,\u001b[49m\u001b[43m \u001b[49m\u001b[43msolver_opts\u001b[49m\u001b[43m)\u001b[49m\n\u001b[1;32m    219\u001b[0m \u001b[38;5;66;03m# Process DPP status of the problem.\u001b[39;00m\n\u001b[1;32m    220\u001b[0m dpp_context \u001b[38;5;241m=\u001b[39m \u001b[38;5;124m'\u001b[39m\u001b[38;5;124mdcp\u001b[39m\u001b[38;5;124m'\u001b[39m \u001b[38;5;28;01mif\u001b[39;00m \u001b[38;5;129;01mnot\u001b[39;00m gp \u001b[38;5;28;01melse\u001b[39;00m \u001b[38;5;124m'\u001b[39m\u001b[38;5;124mdgp\u001b[39m\u001b[38;5;124m'\u001b[39m\n",
      "File \u001b[0;32m~/opt/anaconda3/envs/codesign/lib/python3.10/site-packages/cvxpy/reductions/solvers/solving_chain.py:132\u001b[0m, in \u001b[0;36m_reductions_for_problem_class\u001b[0;34m(problem, candidates, gp, solver_opts)\u001b[0m\n\u001b[1;32m    129\u001b[0m     \u001b[38;5;28;01melif\u001b[39;00m problem\u001b[38;5;241m.\u001b[39mis_dqcp():\n\u001b[1;32m    130\u001b[0m         append \u001b[38;5;241m+\u001b[39m\u001b[38;5;241m=\u001b[39m (\u001b[38;5;124m\"\u001b[39m\u001b[38;5;130;01m\\n\u001b[39;00m\u001b[38;5;124mHowever, the problem does follow DQCP rules. \u001b[39m\u001b[38;5;124m\"\u001b[39m\n\u001b[1;32m    131\u001b[0m                    \u001b[38;5;124m\"\u001b[39m\u001b[38;5;124mConsider calling solve() with `qcp=True`.\u001b[39m\u001b[38;5;124m\"\u001b[39m)\n\u001b[0;32m--> 132\u001b[0m     \u001b[38;5;28;01mraise\u001b[39;00m DCPError(\n\u001b[1;32m    133\u001b[0m         \u001b[38;5;124m\"\u001b[39m\u001b[38;5;124mProblem does not follow DCP rules. Specifically:\u001b[39m\u001b[38;5;130;01m\\n\u001b[39;00m\u001b[38;5;124m\"\u001b[39m \u001b[38;5;241m+\u001b[39m append)\n\u001b[1;32m    134\u001b[0m \u001b[38;5;28;01melif\u001b[39;00m gp \u001b[38;5;129;01mand\u001b[39;00m \u001b[38;5;129;01mnot\u001b[39;00m problem\u001b[38;5;241m.\u001b[39mis_dgp():\n\u001b[1;32m    135\u001b[0m     append \u001b[38;5;241m=\u001b[39m build_non_disciplined_error_msg(problem, \u001b[38;5;124m'\u001b[39m\u001b[38;5;124mDGP\u001b[39m\u001b[38;5;124m'\u001b[39m)\n",
      "\u001b[0;31mDCPError\u001b[0m: Problem does not follow DCP rules. Specifically:\nThe objective is not DCP, even though each sub-expression is.\nYou are trying to minimize a function that is concave."
     ]
    }
   ],
   "source": [
    "node_to_index = {node: i for i, node in enumerate(nodes)}\n",
    "n = len(nodes) \n",
    "E = [(node_to_index[src], node_to_index[dst]) for src, dst in edges]\n",
    "\n",
    "# Some fixed lij values for each edge (will slowly decrease the value until it doesn't work)\n",
    "l = {edge: 10 for edge in E}\n",
    "\n",
    "# Random weights for example, you may replace or adjust these\n",
    "#w = np.random.randn(n) #fix this\n",
    "\n",
    "w = np.asarray([[1] for _ in node_to_index])\n",
    "W = cp.diag(w)\n",
    "print(f'W matrix: {W}')\n",
    "#w = np.abs(np.random.randn(n))\n",
    "#w = list(hw.area.values())\n",
    "\n",
    "p = cp.Variable( (n, 2) )\n",
    "\n",
    "\n",
    "#objective = cp.Maximize(cp.quad_form(p, np.diag(w)))\n",
    "\n",
    "# sum(diag(W(pp^T)) (Implement first)\n",
    "\n",
    "#objective = cp.Maximize( w[0] * (cp.norm(p[0]) ** 2) ) \n",
    "# wDiag = cp.diag(w)\n",
    "# product = p @ p.T\n",
    "# objective = cp.Maximize(cp.sum(cp.multiply(wDiag, product)))\n",
    "\n",
    "# pSquared = np.array([cp.norm(p[i]) for i in range(n)]) ** 2\n",
    "# mult = cp.multiply(w, pSquared)\n",
    "# objective.cp.Maximize(sum(mult))\n",
    "\n",
    "# pPT = p @ p.T\n",
    "# mult = w.T @ pPT\n",
    "# diagonals = cp.diag(w.T @ p @ p.T)\n",
    "\n",
    "#objective = cp.Minimize(-cp.sum(cp.diag(p @ p.T)))\n",
    "objective = cp.Minimize(-sum([w[i] * (cp.norm(p[i]) ** 2) for i in range(len(w))]))\n",
    "\n",
    "constraints = [cp.sum(cp.multiply(w, p)) == 0]  # Sum of w_i * p_i = 0\n",
    "\n",
    "# Adding |p_i - p_j| <= l_ij constraints for each (i, j) in E\n",
    "for (i, j) in E:\n",
    "    constraints += [cp.abs(p[i] - p[j]) <= l[(i, j)]]\n",
    "\n",
    "problem = cp.Problem(objective, constraints)\n",
    "problem.solve()"
   ]
  },
  {
   "cell_type": "code",
   "execution_count": 42,
   "id": "7e7821ff-1fe5-4dca-afc4-2545292710f5",
   "metadata": {},
   "outputs": [],
   "source": [
    "def compute_Kij(i, j, n):\n",
    "    # Create the unit vectors e_i and e_j\n",
    "    e_i = np.zeros(n)\n",
    "    e_j = np.zeros(n)\n",
    "    e_i[i] = 1\n",
    "    e_j[j] = 1\n",
    "    \n",
    "    # Compute the difference\n",
    "    diff = e_i - e_j\n",
    "    \n",
    "    # Compute the outer product of the difference with itself\n",
    "    Kij = np.outer(diff, diff)\n",
    "    \n",
    "    return Kij"
   ]
  },
  {
   "cell_type": "code",
   "execution_count": 43,
   "id": "e9d2151a-e2f2-4b6a-a628-e4c7b14546e0",
   "metadata": {},
   "outputs": [
    {
     "name": "stdout",
     "output_type": "stream",
     "text": [
      "[1, 2]\n"
     ]
    },
    {
     "data": {
      "text/plain": [
       "{'Add': 379348800.0,\n",
       " 'Sub': 379348800.0,\n",
       " 'And': 50369960.0,\n",
       " 'BitAnd': 50369960.0,\n",
       " 'BitOr': 50369960.0,\n",
       " 'BitXor': 50369960.0,\n",
       " 'Eq': 379348800.0,\n",
       " 'FloorDiv': 8340007000.0,\n",
       " 'Gt': 379348800.0,\n",
       " 'GtE': 379348800.0,\n",
       " 'Invert': 50369960.0,\n",
       " 'IsNot': 50369960.0,\n",
       " 'LShift': 24964610.0,\n",
       " 'Lt': 379348800.0,\n",
       " 'LtE': 379348800.0,\n",
       " 'Mod': 379348800.0,\n",
       " 'Mult': 8340007000.0,\n",
       " 'Not': 50369960.0,\n",
       " 'NotEq': 379348800.0,\n",
       " 'Or': 50369960.0,\n",
       " 'RShift': 24964610.0,\n",
       " 'Regs': 5981433.0,\n",
       " 'UAdd': 379348800.0,\n",
       " 'USub': 379348800.0,\n",
       " 'Buf': 0.0,\n",
       " 'MainMem': 5981433.0}"
      ]
     },
     "execution_count": 43,
     "metadata": {},
     "output_type": "execute_result"
    }
   ],
   "source": [
    "print(nodes)\n",
    "\n",
    "hw.area"
   ]
  },
  {
   "cell_type": "code",
   "execution_count": 44,
   "id": "f5c6c483-a472-478b-8296-eb6089bb2541",
   "metadata": {
    "scrolled": true
   },
   "outputs": [
    {
     "name": "stdout",
     "output_type": "stream",
     "text": [
      "The optimal value is 3.783723471715324e-18 \n",
      "\n",
      "A solution t is [-3.68848321e-15  1.87309873e+01] \n",
      "\n",
      "A solution Q is [[-5.68122203e-27  6.58651368e-26]\n",
      " [ 6.58651368e-26  1.34876280e-25]]\n"
     ]
    }
   ],
   "source": [
    "\n",
    "node_to_index = {node: i for i, node in enumerate(nodes)}\n",
    "#print(edges)\n",
    "newEdges = []\n",
    "\n",
    "for edge in edges:\n",
    "    if (edge[1], edge[0]) in newEdges:\n",
    "        continue\n",
    "\n",
    "    newEdges.append(edge)\n",
    "\n",
    "E = [(node_to_index[src], node_to_index[dst]) for src, dst in newEdges]\n",
    "n = len(nodes)\n",
    "w = np.asarray([[1.0] for _ in node_to_index])\n",
    "areas = hw.area\n",
    "\n",
    "for node in digraph.nodes.data(True):\n",
    "    index = node_to_index[node[0]]\n",
    "    w[index, 0] = areas[node[1]['function']]\n",
    "\n",
    "diag_w = cp.diag(w)\n",
    "wwT = w @ w.T\n",
    "Ti = 100\n",
    "di = 1\n",
    "alpha = 1\n",
    "Q = cp.Variable((n, n), PSD=True)\n",
    "t = cp.Variable(n)\n",
    "\n",
    "objective = cp.Maximize(cp.sum(cp.multiply(diag_w, Q))) \n",
    "\n",
    "constraints = [cp.sum(cp.multiply(wwT, Q)) == 0, Q >= 0, t >= 0] \n",
    "\n",
    "for i in range(n):\n",
    "    constraints += [t[i] <= i * (Ti / n)]\n",
    "\n",
    "#checkForDoubly = set()\n",
    "\n",
    "for pair in E:\n",
    "    #print(pair)\n",
    "    first = pair[0]\n",
    "    sec = pair[1]\n",
    "\n",
    "    # if (pair[1], pair[0]) in checkForDoubly:\n",
    "    #     continue\n",
    "\n",
    "    # checkForDoubly.add(pair)\n",
    "    constraints += [t[first] + di + alpha * cp.sum(cp.multiply(compute_Kij(first, sec, n), Q)) <= t[sec]]\n",
    "\n",
    "prob = cp.Problem(objective, constraints)\n",
    "prob.solve(solver='SCS', eps=1e-9, verbose=False)\n",
    "\n",
    "print(\"The optimal value is\", prob.value, '\\n')\n",
    "print(\"A solution t is\", t.value, '\\n')\n",
    "print(\"A solution Q is\", Q.value)"
   ]
  },
  {
   "cell_type": "code",
   "execution_count": 41,
   "id": "25daf82a-70ae-47f1-9df7-946c0f10e781",
   "metadata": {
    "scrolled": true
   },
   "outputs": [
    {
     "name": "stdout",
     "output_type": "stream",
     "text": [
      "[[ True  True]\n",
      " [ True  True]]\n"
     ]
    }
   ],
   "source": [
    "print(Q.value == Q.value.T)"
   ]
  },
  {
   "cell_type": "code",
   "execution_count": 23,
   "id": "d63ecd33-d127-4417-a119-fb2dd6746684",
   "metadata": {},
   "outputs": [
    {
     "name": "stdout",
     "output_type": "stream",
     "text": [
      "[-3.17213118e-26  1.60916370e-25]\n"
     ]
    }
   ],
   "source": [
    "Q_matrix = Q.value\n",
    "\n",
    "# for i in range(len(Q_matrix)):\n",
    "#     for j in range(len(Q_matrix[0])):\n",
    "#         if Q_matrix[i, j] < 0:\n",
    "#             Q_matrix[i, j] = 0\n",
    "\n",
    "#print(Q_matrix)\n",
    "\n",
    "eigenvalues, eigenvectors = np.linalg.eigh(Q_matrix) \n",
    "print(eigenvalues)\n",
    "\n",
    "# for i in range(len(eigenvalues)):\n",
    "#     if eigenvalues[i] < 0:\n",
    "#         eigenvalues[i] = 0\n",
    "\n",
    "# D = np.diag(np.sqrt(eigenvalues))\n",
    "# P = eigenvectors @ D\n",
    "\n",
    "# print(Q.value)\n",
    "# print('\\n')\n",
    "# print(P @ P.T)"
   ]
  },
  {
   "cell_type": "code",
   "execution_count": 24,
   "id": "8b750bd1-866b-4e1d-b423-7f1365679ac7",
   "metadata": {},
   "outputs": [
    {
     "ename": "Exception",
     "evalue": "Cannot evaluate the truth value of a constraint or chain constraints, e.g., 1 >= x >= 0.",
     "output_type": "error",
     "traceback": [
      "\u001b[0;31m---------------------------------------------------------------------------\u001b[0m",
      "\u001b[0;31mException\u001b[0m                                 Traceback (most recent call last)",
      "Cell \u001b[0;32mIn[24], line 22\u001b[0m\n\u001b[1;32m     18\u001b[0m KQ_inner_prod \u001b[38;5;241m=\u001b[39m q1 \u001b[38;5;241m-\u001b[39m \u001b[38;5;241m2\u001b[39m \u001b[38;5;241m*\u001b[39m q2 \u001b[38;5;241m+\u001b[39m q4\n\u001b[1;32m     20\u001b[0m objective \u001b[38;5;241m=\u001b[39m cp\u001b[38;5;241m.\u001b[39mMaximize(a1 \u001b[38;5;241m*\u001b[39m q1 \u001b[38;5;241m+\u001b[39m a2 \u001b[38;5;241m*\u001b[39m q4)\n\u001b[0;32m---> 22\u001b[0m constraints \u001b[38;5;241m=\u001b[39m [t1 \u001b[38;5;241m+\u001b[39m di \u001b[38;5;241m+\u001b[39m alpha \u001b[38;5;241m*\u001b[39m KQ_inner_prod \u001b[38;5;241m<\u001b[39m\u001b[38;5;241m=\u001b[39m T, \u001b[43mQ\u001b[49m\u001b[43m \u001b[49m\u001b[38;5;241;43m>\u001b[39;49m\u001b[38;5;241;43m=\u001b[39;49m\u001b[43m \u001b[49m\u001b[38;5;241;43m0\u001b[39;49m]\n",
      "File \u001b[0;32m~/opt/anaconda3/envs/codesign/lib/python3.10/site-packages/cvxpy/constraints/constraint.py:233\u001b[0m, in \u001b[0;36mConstraint.__bool__\u001b[0;34m(self)\u001b[0m\n\u001b[1;32m    225\u001b[0m \u001b[38;5;28;01mdef\u001b[39;00m \u001b[38;5;21m__bool__\u001b[39m(\u001b[38;5;28mself\u001b[39m):\n\u001b[1;32m    226\u001b[0m \u001b[38;5;250m    \u001b[39m\u001b[38;5;124;03m\"\"\"Raises an exception when called.\u001b[39;00m\n\u001b[1;32m    227\u001b[0m \n\u001b[1;32m    228\u001b[0m \u001b[38;5;124;03m    Python 3 version.\u001b[39;00m\n\u001b[0;32m   (...)\u001b[0m\n\u001b[1;32m    231\u001b[0m \u001b[38;5;124;03m    Raising an error here prevents writing chained constraints.\u001b[39;00m\n\u001b[1;32m    232\u001b[0m \u001b[38;5;124;03m    \"\"\"\u001b[39;00m\n\u001b[0;32m--> 233\u001b[0m     \u001b[38;5;28;01mreturn\u001b[39;00m \u001b[38;5;28;43mself\u001b[39;49m\u001b[38;5;241;43m.\u001b[39;49m\u001b[43m_chain_constraints\u001b[49m\u001b[43m(\u001b[49m\u001b[43m)\u001b[49m\n",
      "File \u001b[0;32m~/opt/anaconda3/envs/codesign/lib/python3.10/site-packages/cvxpy/constraints/constraint.py:220\u001b[0m, in \u001b[0;36mConstraint._chain_constraints\u001b[0;34m(self)\u001b[0m\n\u001b[1;32m    217\u001b[0m \u001b[38;5;28;01mdef\u001b[39;00m \u001b[38;5;21m_chain_constraints\u001b[39m(\u001b[38;5;28mself\u001b[39m):\n\u001b[1;32m    218\u001b[0m \u001b[38;5;250m    \u001b[39m\u001b[38;5;124;03m\"\"\"Raises an error due to chained constraints.\u001b[39;00m\n\u001b[1;32m    219\u001b[0m \u001b[38;5;124;03m    \"\"\"\u001b[39;00m\n\u001b[0;32m--> 220\u001b[0m     \u001b[38;5;28;01mraise\u001b[39;00m \u001b[38;5;167;01mException\u001b[39;00m(\n\u001b[1;32m    221\u001b[0m         (\u001b[38;5;124m\"\u001b[39m\u001b[38;5;124mCannot evaluate the truth value of a constraint or \u001b[39m\u001b[38;5;124m\"\u001b[39m\n\u001b[1;32m    222\u001b[0m          \u001b[38;5;124m\"\u001b[39m\u001b[38;5;124mchain constraints, e.g., 1 >= x >= 0.\u001b[39m\u001b[38;5;124m\"\u001b[39m)\n\u001b[1;32m    223\u001b[0m     )\n",
      "\u001b[0;31mException\u001b[0m: Cannot evaluate the truth value of a constraint or chain constraints, e.g., 1 >= x >= 0."
     ]
    }
   ],
   "source": [
    "x1 = cp.Variable()\n",
    "y1 = cp.Variable()\n",
    "x2 = cp.Variable()\n",
    "y2 = cp.Variable()\n",
    "t1 = cp.Variable()\n",
    "t2 = cp.Variable()\n",
    "\n",
    "#w = np.array([1.0, 1.0]).reshape((2, 1))\n",
    "a1 = 1.0\n",
    "a2 = 1.0\n",
    "T = 100.0\n",
    "di = 1.0\n",
    "alpha = 1.0\n",
    "q1 = x1 ** 2 + y1 ** 2\n",
    "q4 = x2 ** 2 + y2 ** 2\n",
    "q2 = -( (a1 ** 2) * q1 + (a2 ** 2) * q4 ) / (2 * a1 * a2)\n",
    "Q = np.array([ [q1, q2], [q2, q4] ])\n",
    "KQ_inner_prod = q1 - 2 * q2 + q4\n",
    "\n",
    "objective = cp.Maximize(a1 * q1 + a2 * q4)\n",
    "\n",
    "constraints = [t1 + di + alpha * KQ_inner_prod <= T, Q >= 0]\n",
    "\n",
    "\n"
   ]
  },
  {
   "cell_type": "code",
   "execution_count": 25,
   "id": "7e5694a2-86fc-4370-8323-29ae9a713ef7",
   "metadata": {
    "scrolled": true
   },
   "outputs": [
    {
     "name": "stdout",
     "output_type": "stream",
     "text": [
      "(2, 2)\n",
      "var462.T @ var462\n",
      "===============================================================================\n",
      "                                     CVXPY                                     \n",
      "                                     v1.4.3                                    \n",
      "===============================================================================\n",
      "(CVXPY) May 15 10:05:56 AM: Your problem has 6 variables, 5 constraints, and 0 parameters.\n",
      "(CVXPY) May 15 10:05:56 AM: It is compliant with the following grammars: \n",
      "(CVXPY) May 15 10:05:56 AM: (If you need to solve this problem multiple times, but with different data, consider using parameters.)\n",
      "(CVXPY) May 15 10:05:56 AM: CVXPY will first compile your problem; then, it will invoke a numerical solver to obtain a solution.\n",
      "(CVXPY) May 15 10:05:56 AM: Your problem is compiled with the CPP canonicalization backend.\n"
     ]
    },
    {
     "ename": "DCPError",
     "evalue": "Problem does not follow DCP rules. Specifically:\nThe objective is not DCP. Its following subexpressions are not:\nvar462.T @ var462\nvar462.T @ var462",
     "output_type": "error",
     "traceback": [
      "\u001b[0;31m---------------------------------------------------------------------------\u001b[0m",
      "\u001b[0;31mDCPError\u001b[0m                                  Traceback (most recent call last)",
      "Cell \u001b[0;32mIn[25], line 34\u001b[0m\n\u001b[1;32m     31\u001b[0m constraints \u001b[38;5;241m=\u001b[39m [t1 \u001b[38;5;241m+\u001b[39m di \u001b[38;5;241m+\u001b[39m alpha \u001b[38;5;241m*\u001b[39m KQ_inner_prod \u001b[38;5;241m<\u001b[39m\u001b[38;5;241m=\u001b[39m t2, Q \u001b[38;5;241m>\u001b[39m\u001b[38;5;241m=\u001b[39m \u001b[38;5;241m0\u001b[39m, t1 \u001b[38;5;241m<\u001b[39m\u001b[38;5;241m=\u001b[39m T, t2 \u001b[38;5;241m<\u001b[39m\u001b[38;5;241m=\u001b[39m T, wwT_Q \u001b[38;5;241m==\u001b[39m \u001b[38;5;241m0\u001b[39m]\n\u001b[1;32m     33\u001b[0m prob \u001b[38;5;241m=\u001b[39m cp\u001b[38;5;241m.\u001b[39mProblem(objective, constraints)\n\u001b[0;32m---> 34\u001b[0m \u001b[43mprob\u001b[49m\u001b[38;5;241;43m.\u001b[39;49m\u001b[43msolve\u001b[49m\u001b[43m(\u001b[49m\u001b[43mverbose\u001b[49m\u001b[38;5;241;43m=\u001b[39;49m\u001b[38;5;28;43;01mTrue\u001b[39;49;00m\u001b[43m)\u001b[49m\n",
      "File \u001b[0;32m~/opt/anaconda3/envs/codesign/lib/python3.10/site-packages/cvxpy/problems/problem.py:503\u001b[0m, in \u001b[0;36mProblem.solve\u001b[0;34m(self, *args, **kwargs)\u001b[0m\n\u001b[1;32m    501\u001b[0m \u001b[38;5;28;01melse\u001b[39;00m:\n\u001b[1;32m    502\u001b[0m     solve_func \u001b[38;5;241m=\u001b[39m Problem\u001b[38;5;241m.\u001b[39m_solve\n\u001b[0;32m--> 503\u001b[0m \u001b[38;5;28;01mreturn\u001b[39;00m \u001b[43msolve_func\u001b[49m\u001b[43m(\u001b[49m\u001b[38;5;28;43mself\u001b[39;49m\u001b[43m,\u001b[49m\u001b[43m \u001b[49m\u001b[38;5;241;43m*\u001b[39;49m\u001b[43margs\u001b[49m\u001b[43m,\u001b[49m\u001b[43m \u001b[49m\u001b[38;5;241;43m*\u001b[39;49m\u001b[38;5;241;43m*\u001b[39;49m\u001b[43mkwargs\u001b[49m\u001b[43m)\u001b[49m\n",
      "File \u001b[0;32m~/opt/anaconda3/envs/codesign/lib/python3.10/site-packages/cvxpy/problems/problem.py:1072\u001b[0m, in \u001b[0;36mProblem._solve\u001b[0;34m(self, solver, warm_start, verbose, gp, qcp, requires_grad, enforce_dpp, ignore_dpp, canon_backend, **kwargs)\u001b[0m\n\u001b[1;32m   1069\u001b[0m         \u001b[38;5;28mself\u001b[39m\u001b[38;5;241m.\u001b[39munpack(chain\u001b[38;5;241m.\u001b[39mretrieve(soln))\n\u001b[1;32m   1070\u001b[0m         \u001b[38;5;28;01mreturn\u001b[39;00m \u001b[38;5;28mself\u001b[39m\u001b[38;5;241m.\u001b[39mvalue\n\u001b[0;32m-> 1072\u001b[0m data, solving_chain, inverse_data \u001b[38;5;241m=\u001b[39m \u001b[38;5;28;43mself\u001b[39;49m\u001b[38;5;241;43m.\u001b[39;49m\u001b[43mget_problem_data\u001b[49m\u001b[43m(\u001b[49m\n\u001b[1;32m   1073\u001b[0m \u001b[43m    \u001b[49m\u001b[43msolver\u001b[49m\u001b[43m,\u001b[49m\u001b[43m \u001b[49m\u001b[43mgp\u001b[49m\u001b[43m,\u001b[49m\u001b[43m \u001b[49m\u001b[43menforce_dpp\u001b[49m\u001b[43m,\u001b[49m\u001b[43m \u001b[49m\u001b[43mignore_dpp\u001b[49m\u001b[43m,\u001b[49m\u001b[43m \u001b[49m\u001b[43mverbose\u001b[49m\u001b[43m,\u001b[49m\u001b[43m \u001b[49m\u001b[43mcanon_backend\u001b[49m\u001b[43m,\u001b[49m\u001b[43m \u001b[49m\u001b[43mkwargs\u001b[49m\n\u001b[1;32m   1074\u001b[0m \u001b[43m\u001b[49m\u001b[43m)\u001b[49m\n\u001b[1;32m   1076\u001b[0m \u001b[38;5;28;01mif\u001b[39;00m verbose:\n\u001b[1;32m   1077\u001b[0m     \u001b[38;5;28mprint\u001b[39m(_NUM_SOLVER_STR)\n",
      "File \u001b[0;32m~/opt/anaconda3/envs/codesign/lib/python3.10/site-packages/cvxpy/problems/problem.py:646\u001b[0m, in \u001b[0;36mProblem.get_problem_data\u001b[0;34m(self, solver, gp, enforce_dpp, ignore_dpp, verbose, canon_backend, solver_opts)\u001b[0m\n\u001b[1;32m    644\u001b[0m \u001b[38;5;28;01mif\u001b[39;00m key \u001b[38;5;241m!=\u001b[39m \u001b[38;5;28mself\u001b[39m\u001b[38;5;241m.\u001b[39m_cache\u001b[38;5;241m.\u001b[39mkey:\n\u001b[1;32m    645\u001b[0m     \u001b[38;5;28mself\u001b[39m\u001b[38;5;241m.\u001b[39m_cache\u001b[38;5;241m.\u001b[39minvalidate()\n\u001b[0;32m--> 646\u001b[0m     solving_chain \u001b[38;5;241m=\u001b[39m \u001b[38;5;28;43mself\u001b[39;49m\u001b[38;5;241;43m.\u001b[39;49m\u001b[43m_construct_chain\u001b[49m\u001b[43m(\u001b[49m\n\u001b[1;32m    647\u001b[0m \u001b[43m        \u001b[49m\u001b[43msolver\u001b[49m\u001b[38;5;241;43m=\u001b[39;49m\u001b[43msolver\u001b[49m\u001b[43m,\u001b[49m\u001b[43m \u001b[49m\u001b[43mgp\u001b[49m\u001b[38;5;241;43m=\u001b[39;49m\u001b[43mgp\u001b[49m\u001b[43m,\u001b[49m\n\u001b[1;32m    648\u001b[0m \u001b[43m        \u001b[49m\u001b[43menforce_dpp\u001b[49m\u001b[38;5;241;43m=\u001b[39;49m\u001b[43menforce_dpp\u001b[49m\u001b[43m,\u001b[49m\n\u001b[1;32m    649\u001b[0m \u001b[43m        \u001b[49m\u001b[43mignore_dpp\u001b[49m\u001b[38;5;241;43m=\u001b[39;49m\u001b[43mignore_dpp\u001b[49m\u001b[43m,\u001b[49m\n\u001b[1;32m    650\u001b[0m \u001b[43m        \u001b[49m\u001b[43mcanon_backend\u001b[49m\u001b[38;5;241;43m=\u001b[39;49m\u001b[43mcanon_backend\u001b[49m\u001b[43m,\u001b[49m\n\u001b[1;32m    651\u001b[0m \u001b[43m        \u001b[49m\u001b[43msolver_opts\u001b[49m\u001b[38;5;241;43m=\u001b[39;49m\u001b[43msolver_opts\u001b[49m\u001b[43m)\u001b[49m\n\u001b[1;32m    652\u001b[0m     \u001b[38;5;28mself\u001b[39m\u001b[38;5;241m.\u001b[39m_cache\u001b[38;5;241m.\u001b[39mkey \u001b[38;5;241m=\u001b[39m key\n\u001b[1;32m    653\u001b[0m     \u001b[38;5;28mself\u001b[39m\u001b[38;5;241m.\u001b[39m_cache\u001b[38;5;241m.\u001b[39msolving_chain \u001b[38;5;241m=\u001b[39m solving_chain\n",
      "File \u001b[0;32m~/opt/anaconda3/envs/codesign/lib/python3.10/site-packages/cvxpy/problems/problem.py:898\u001b[0m, in \u001b[0;36mProblem._construct_chain\u001b[0;34m(self, solver, gp, enforce_dpp, ignore_dpp, canon_backend, solver_opts)\u001b[0m\n\u001b[1;32m    896\u001b[0m candidate_solvers \u001b[38;5;241m=\u001b[39m \u001b[38;5;28mself\u001b[39m\u001b[38;5;241m.\u001b[39m_find_candidate_solvers(solver\u001b[38;5;241m=\u001b[39msolver, gp\u001b[38;5;241m=\u001b[39mgp)\n\u001b[1;32m    897\u001b[0m \u001b[38;5;28mself\u001b[39m\u001b[38;5;241m.\u001b[39m_sort_candidate_solvers(candidate_solvers)\n\u001b[0;32m--> 898\u001b[0m \u001b[38;5;28;01mreturn\u001b[39;00m \u001b[43mconstruct_solving_chain\u001b[49m\u001b[43m(\u001b[49m\u001b[38;5;28;43mself\u001b[39;49m\u001b[43m,\u001b[49m\u001b[43m \u001b[49m\u001b[43mcandidate_solvers\u001b[49m\u001b[43m,\u001b[49m\u001b[43m \u001b[49m\u001b[43mgp\u001b[49m\u001b[38;5;241;43m=\u001b[39;49m\u001b[43mgp\u001b[49m\u001b[43m,\u001b[49m\n\u001b[1;32m    899\u001b[0m \u001b[43m                               \u001b[49m\u001b[43menforce_dpp\u001b[49m\u001b[38;5;241;43m=\u001b[39;49m\u001b[43menforce_dpp\u001b[49m\u001b[43m,\u001b[49m\n\u001b[1;32m    900\u001b[0m \u001b[43m                               \u001b[49m\u001b[43mignore_dpp\u001b[49m\u001b[38;5;241;43m=\u001b[39;49m\u001b[43mignore_dpp\u001b[49m\u001b[43m,\u001b[49m\n\u001b[1;32m    901\u001b[0m \u001b[43m                               \u001b[49m\u001b[43mcanon_backend\u001b[49m\u001b[38;5;241;43m=\u001b[39;49m\u001b[43mcanon_backend\u001b[49m\u001b[43m,\u001b[49m\n\u001b[1;32m    902\u001b[0m \u001b[43m                               \u001b[49m\u001b[43msolver_opts\u001b[49m\u001b[38;5;241;43m=\u001b[39;49m\u001b[43msolver_opts\u001b[49m\u001b[43m,\u001b[49m\n\u001b[1;32m    903\u001b[0m \u001b[43m                               \u001b[49m\u001b[43mspecified_solver\u001b[49m\u001b[38;5;241;43m=\u001b[39;49m\u001b[43msolver\u001b[49m\u001b[43m)\u001b[49m\n",
      "File \u001b[0;32m~/opt/anaconda3/envs/codesign/lib/python3.10/site-packages/cvxpy/reductions/solvers/solving_chain.py:217\u001b[0m, in \u001b[0;36mconstruct_solving_chain\u001b[0;34m(problem, candidates, gp, enforce_dpp, ignore_dpp, canon_backend, solver_opts, specified_solver)\u001b[0m\n\u001b[1;32m    215\u001b[0m \u001b[38;5;28;01mif\u001b[39;00m \u001b[38;5;28mlen\u001b[39m(problem\u001b[38;5;241m.\u001b[39mvariables()) \u001b[38;5;241m==\u001b[39m \u001b[38;5;241m0\u001b[39m:\n\u001b[1;32m    216\u001b[0m     \u001b[38;5;28;01mreturn\u001b[39;00m SolvingChain(reductions\u001b[38;5;241m=\u001b[39m[ConstantSolver()])\n\u001b[0;32m--> 217\u001b[0m reductions \u001b[38;5;241m=\u001b[39m \u001b[43m_reductions_for_problem_class\u001b[49m\u001b[43m(\u001b[49m\u001b[43mproblem\u001b[49m\u001b[43m,\u001b[49m\u001b[43m \u001b[49m\u001b[43mcandidates\u001b[49m\u001b[43m,\u001b[49m\u001b[43m \u001b[49m\u001b[43mgp\u001b[49m\u001b[43m,\u001b[49m\u001b[43m \u001b[49m\u001b[43msolver_opts\u001b[49m\u001b[43m)\u001b[49m\n\u001b[1;32m    219\u001b[0m \u001b[38;5;66;03m# Process DPP status of the problem.\u001b[39;00m\n\u001b[1;32m    220\u001b[0m dpp_context \u001b[38;5;241m=\u001b[39m \u001b[38;5;124m'\u001b[39m\u001b[38;5;124mdcp\u001b[39m\u001b[38;5;124m'\u001b[39m \u001b[38;5;28;01mif\u001b[39;00m \u001b[38;5;129;01mnot\u001b[39;00m gp \u001b[38;5;28;01melse\u001b[39;00m \u001b[38;5;124m'\u001b[39m\u001b[38;5;124mdgp\u001b[39m\u001b[38;5;124m'\u001b[39m\n",
      "File \u001b[0;32m~/opt/anaconda3/envs/codesign/lib/python3.10/site-packages/cvxpy/reductions/solvers/solving_chain.py:132\u001b[0m, in \u001b[0;36m_reductions_for_problem_class\u001b[0;34m(problem, candidates, gp, solver_opts)\u001b[0m\n\u001b[1;32m    129\u001b[0m     \u001b[38;5;28;01melif\u001b[39;00m problem\u001b[38;5;241m.\u001b[39mis_dqcp():\n\u001b[1;32m    130\u001b[0m         append \u001b[38;5;241m+\u001b[39m\u001b[38;5;241m=\u001b[39m (\u001b[38;5;124m\"\u001b[39m\u001b[38;5;130;01m\\n\u001b[39;00m\u001b[38;5;124mHowever, the problem does follow DQCP rules. \u001b[39m\u001b[38;5;124m\"\u001b[39m\n\u001b[1;32m    131\u001b[0m                    \u001b[38;5;124m\"\u001b[39m\u001b[38;5;124mConsider calling solve() with `qcp=True`.\u001b[39m\u001b[38;5;124m\"\u001b[39m)\n\u001b[0;32m--> 132\u001b[0m     \u001b[38;5;28;01mraise\u001b[39;00m DCPError(\n\u001b[1;32m    133\u001b[0m         \u001b[38;5;124m\"\u001b[39m\u001b[38;5;124mProblem does not follow DCP rules. Specifically:\u001b[39m\u001b[38;5;130;01m\\n\u001b[39;00m\u001b[38;5;124m\"\u001b[39m \u001b[38;5;241m+\u001b[39m append)\n\u001b[1;32m    134\u001b[0m \u001b[38;5;28;01melif\u001b[39;00m gp \u001b[38;5;129;01mand\u001b[39;00m \u001b[38;5;129;01mnot\u001b[39;00m problem\u001b[38;5;241m.\u001b[39mis_dgp():\n\u001b[1;32m    135\u001b[0m     append \u001b[38;5;241m=\u001b[39m build_non_disciplined_error_msg(problem, \u001b[38;5;124m'\u001b[39m\u001b[38;5;124mDGP\u001b[39m\u001b[38;5;124m'\u001b[39m)\n",
      "\u001b[0;31mDCPError\u001b[0m: Problem does not follow DCP rules. Specifically:\nThe objective is not DCP. Its following subexpressions are not:\nvar462.T @ var462\nvar462.T @ var462"
     ]
    }
   ],
   "source": [
    "# x1 = cp.Variable()\n",
    "# y1 = cp.Variable()\n",
    "# x2 = cp.Variable()\n",
    "# y2 = cp.Variable()\n",
    "t1 = cp.Variable()\n",
    "t2 = cp.Variable()\n",
    "p = cp.Variable((2, 2))\n",
    "\n",
    "Q = p.T @ p\n",
    "print(Q.shape)\n",
    "q1 = Q[0, 0]\n",
    "q2 = Q[0, 1]\n",
    "q3 = Q[1, 0]\n",
    "q4 = Q[1, 1]\n",
    "KQ_inner_prod = q1 - 2 * q2 + q4\n",
    "wwT_Q = q1 * (a1 ** 2) + q2 * a1 * a2 + q3 * a1 * a2 + q4 * (a2 ** 2)\n",
    "\n",
    "a1 = 1.0\n",
    "a2 = 1.0\n",
    "T = 100.0\n",
    "di = 1.0\n",
    "alpha = 1.0\n",
    "\n",
    "# q1 = x1 ** 2 + y1 ** 2\n",
    "# q4 = x2 ** 2 + y2 ** 2\n",
    "# q2 = -( (a1 ** 2) * q1 + (a2 ** 2) * q4 ) / (2 * a1 * a2)\n",
    "\n",
    "print(Q)\n",
    "objective = cp.Maximize(a1 * q1 + a2 * q4)\n",
    "\n",
    "constraints = [t1 + di + alpha * KQ_inner_prod <= t2, Q >= 0, t1 <= T, t2 <= T, wwT_Q == 0]\n",
    "\n",
    "prob = cp.Problem(objective, constraints)\n",
    "prob.solve(verbose=True)"
   ]
  },
  {
   "cell_type": "code",
   "execution_count": 36,
   "id": "e4344fd8-9064-4873-965b-18811b689a32",
   "metadata": {},
   "outputs": [
    {
     "name": "stdout",
     "output_type": "stream",
     "text": [
      "(2, 2)\n",
      "var837\n",
      "5.683264772838868e-07 \n",
      "\n",
      "[[ 2.84163239e-07 -4.54562813e-07]\n",
      " [-1.13551245e-07  2.84163239e-07]]\n",
      "\n",
      "\n",
      "[1.70611994e-07 3.97714483e-07]\n"
     ]
    }
   ],
   "source": [
    "t1 = cp.Variable()\n",
    "t2 = cp.Variable()\n",
    "Q = cp.Variable((2, 2))\n",
    "#p = cp.Variable((2, 2))\n",
    "\n",
    "#Q = p.T @ p\n",
    "print(Q.shape)\n",
    "q1 = Q[0, 0]\n",
    "q2 = Q[0, 1]\n",
    "q3 = Q[1, 0]\n",
    "q4 = Q[1, 1]\n",
    "KQ_inner_prod = q1 - 2 * q2 + q4\n",
    "wwT_Q = q1 * (a1 ** 2) + q2 * a1 * a2 + q3 * a1 * a2 + q4 * (a2 ** 2)\n",
    "\n",
    "a1 = 1.0\n",
    "a2 = 1.0\n",
    "T = 100.0\n",
    "di = 1.0\n",
    "alpha = 1.0\n",
    "\n",
    "# q1 = x1 ** 2 + y1 ** 2\n",
    "# q4 = x2 ** 2 + y2 ** 2\n",
    "# q2 = -( (a1 ** 2) * q1 + (a2 ** 2) * q4 ) / (2 * a1 * a2)\n",
    "\n",
    "print(Q)\n",
    "objective = cp.Maximize(a1 * q1 + a2 * q4)\n",
    "\n",
    "constraints = [t1 + di + alpha * KQ_inner_prod <= t2, Q >= 0, t1 <= T, t2 <= T, wwT_Q == 0]\n",
    "\n",
    "prob = cp.Problem(objective, constraints)\n",
    "prob.solve(solver='SCS', verbose=False)\n",
    "print(prob.value, '\\n')\n",
    "print(Q.value)\n",
    "print('\\n')\n",
    "\n",
    "eigenvalues, eigenvectors = np.linalg.eigh(Q.value) \n",
    "print(eigenvalues)"
   ]
  },
  {
   "cell_type": "code",
   "execution_count": 39,
   "id": "94d753a3-35dd-4996-9fd8-5bc56d1bd36c",
   "metadata": {},
   "outputs": [
    {
     "name": "stdout",
     "output_type": "stream",
     "text": [
      "[[ True False]\n",
      " [False  True]]\n"
     ]
    }
   ],
   "source": [
    "print(Q.value == Q.value.T)"
   ]
  },
  {
   "cell_type": "code",
   "execution_count": 46,
   "id": "4120ffd0-2ed3-4326-a5b1-ba20f2f95c01",
   "metadata": {},
   "outputs": [
    {
     "name": "stdout",
     "output_type": "stream",
     "text": [
      "{1: 0, 2: 1}\n"
     ]
    }
   ],
   "source": [
    "print(node_to_index)"
   ]
  },
  {
   "cell_type": "code",
   "execution_count": 62,
   "id": "596cbac1-bea5-4c76-a623-aa0920e4be9b",
   "metadata": {},
   "outputs": [
    {
     "name": "stdout",
     "output_type": "stream",
     "text": [
      "{1: {2: nan}}\n"
     ]
    },
    {
     "name": "stderr",
     "output_type": "stream",
     "text": [
      "/var/folders/35/z588hjp90z92x4_wc7v7bytc0000gn/T/ipykernel_25652/2220452440.py:7: RuntimeWarning: invalid value encountered in scalar power\n",
      "  length = np.sum(np.multiply(compute_Kij(node_to_index[first], node_to_index[sec], len(node_to_index)), Q.value)) ** 0.5\n"
     ]
    }
   ],
   "source": [
    "KQ_inner = cp.sum(cp.multiply(compute_Kij(0, 1, 2), Q.value))\n",
    "length_dict = {}\n",
    "\n",
    "for edge in newEdges:\n",
    "    first = edge[0]\n",
    "    sec = edge[1]\n",
    "    length = np.sum(np.multiply(compute_Kij(node_to_index[first], node_to_index[sec], len(node_to_index)), Q.value)) ** 0.5\n",
    "\n",
    "    if edge[0] not in length_dict:\n",
    "        length_dict[first] = {}\n",
    "\n",
    "    length_dict[first][sec] = length\n",
    "\n",
    "print(length_dict)"
   ]
  },
  {
   "cell_type": "code",
   "execution_count": null,
   "id": "b38b61c7-ba7e-425e-b8c3-be039e019a57",
   "metadata": {},
   "outputs": [],
   "source": []
  }
 ],
 "metadata": {
  "kernelspec": {
   "display_name": "Python 3 (ipykernel)",
   "language": "python",
   "name": "python3"
  },
  "language_info": {
   "codemirror_mode": {
    "name": "ipython",
    "version": 3
   },
   "file_extension": ".py",
   "mimetype": "text/x-python",
   "name": "python",
   "nbconvert_exporter": "python",
   "pygments_lexer": "ipython3",
   "version": "3.10.13"
  }
 },
 "nbformat": 4,
 "nbformat_minor": 5
}
