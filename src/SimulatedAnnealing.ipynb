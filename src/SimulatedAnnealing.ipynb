{
 "cells": [
  {
   "cell_type": "code",
   "execution_count": 154,
   "id": "bb33d626-8132-4c98-8b60-c2eed9b305af",
   "metadata": {},
   "outputs": [],
   "source": [
    "import numpy as np\n",
    "import numpy.random as rn\n",
    "import matplotlib.pyplot as plt  # to plot\n",
    "import matplotlib as mpl\n",
    "\n",
    "from hardwareModel import HardwareModel\n",
    "import networkx as nx\n",
    "\n",
    "from scipy import optimize       # to compare\n",
    "\n",
    "import seaborn as sns\n",
    "sns.set(context=\"talk\", style=\"darkgrid\", palette=\"hls\", font=\"sans-serif\", font_scale=1.05)\n",
    "\n",
    "FIGSIZE = (19, 8)  #: Figure size, in inches!\n",
    "mpl.rcParams['figure.figsize'] = FIGSIZE"
   ]
  },
  {
   "cell_type": "code",
   "execution_count": 177,
   "id": "066ff969-b8b0-4db7-b8ba-8b397cec1ec9",
   "metadata": {},
   "outputs": [],
   "source": [
    "def annealing(random_start,  # get rid of function parameters\n",
    "              cost_function,\n",
    "              random_neighbour,\n",
    "              acceptance,\n",
    "              temperature,\n",
    "              positions,\n",
    "              edges,\n",
    "              areas,\n",
    "              maxsteps=1000,\n",
    "              debug=True):\n",
    "    \"\"\" Optimize the black-box function 'cost_function' with the simulated annealing algorithm.\"\"\"\n",
    "    for i in range(len(positions)):\n",
    "        state = random_start()\n",
    "        positions[i] = state\n",
    "    \n",
    "    wireLengths = wirelengths(positions, edges)\n",
    "    cost = cost_function(wireLengths, positions, areas)\n",
    "    states, costs = [state], [cost]\n",
    "    for step in range(maxsteps):\n",
    "        fraction = step / float(maxsteps)\n",
    "        T = temperature(fraction)\n",
    "\n",
    "        for i in range(len(positions)):\n",
    "            new_state = random_neighbour(positions[i], fraction)\n",
    "            positions[i] = new_state\n",
    "            wireLengths = wirelengths(positions, edges)\n",
    "            new_cost = cost_function(wireLengths, positions, areas)\n",
    "            #if debug: print(\"Step #{:>2}/{:>2} : T = {:>4.3g}, state = {:>4.3g}, cost = {:>4.3g}, new_state = {:>4.3g}, new_cost = {:>4.3g} ...\".format(step, maxsteps, T, state, cost, new_state, new_cost))\n",
    "            if acceptance_probability(cost, new_cost, T) > rn.random():\n",
    "                state, cost = new_state, new_cost\n",
    "                states.append(state)\n",
    "                costs.append(cost)\n",
    "            # print(\"  ==> Accept it!\")\n",
    "        # else:\n",
    "        #    print(\"  ==> Reject it...\")\n",
    "        \n",
    "        \n",
    "    return state, cost_function(wireLengths, positions, areas), states, costs"
   ]
  },
  {
   "cell_type": "code",
   "execution_count": 178,
   "id": "e74efb21-8f1c-49a7-aa8d-6d1a0887e48f",
   "metadata": {},
   "outputs": [
    {
     "name": "stdout",
     "output_type": "stream",
     "text": [
      "netlist: [('Add0', {'type': 'pe', 'function': 'Add', 'in_use': 0, 'idx': 0}), ('Regs0', {'type': 'memory', 'function': 'Regs', 'in_use': 0, 'size': 1, 'idx': 0}), ('Regs1', {'type': 'memory', 'function': 'Regs', 'in_use': 0, 'size': 1, 'idx': 1}), ('Regs2', {'type': 'memory', 'function': 'Regs', 'in_use': 0, 'size': 1, 'idx': 2}), ('Mult0', {'type': 'pe', 'function': 'Mult', 'in_use': 0, 'idx': 0}), ('Eq0', {'type': 'pe', 'function': 'Eq', 'in_use': 0, 'idx': 0}), ('Buf0', {'type': 'mem', 'function': 'Buf', 'in_use': 0, 'idx': 0, 'size': 22}), ('Buf1', {'type': 'mem', 'function': 'Buf', 'in_use': 0, 'idx': 1, 'size': 22}), ('Mem0', {'type': 'mem', 'function': 'MainMem', 'in_use': 0, 'idx': 0, 'size': 1024}), ('Regs3', {'type': 'memory', 'function': 'Regs', 'in_use': 0, 'size': 1, 'idx': 3})]\n"
     ]
    }
   ],
   "source": [
    "hw = HardwareModel(cfg='aladdin_const_with_mem')\n",
    "digraph = hw.netlist\n",
    "N = len(digraph.nodes)"
   ]
  },
  {
   "cell_type": "code",
   "execution_count": 179,
   "id": "c2623009-22b9-490b-9ef0-34035337149a",
   "metadata": {},
   "outputs": [],
   "source": [
    "interval = (-10, 10)\n",
    "N = 3\n",
    "#wirelengths = {(0, 1) : 2, (2, 3) : 2}\n",
    "positions = [(0, 0), (0, 0), (2, 0)]\n",
    "edges = [(0, 1), (0, 2)]\n",
    "areas = [1, 1, 1]\n",
    "\n",
    "def wirelengths(x, e):\n",
    "    repeats = set()\n",
    "    output = {}\n",
    "\n",
    "    for edge in e:\n",
    "        if (edge[1], edge[0]) not in repeats:\n",
    "            repeats.add(edge)\n",
    "            position0 = x[edge[0]]\n",
    "            position1 = x[edge[1]]\n",
    "            wirelength = ((position0[0] - position1[0]) ** 2 + (position0[1] - position1[1]) ** 2) ** 0.5\n",
    "            output[edge] = wirelength\n",
    "\n",
    "    return output\n",
    "\n",
    "def f(x, positions, areas):\n",
    "    \"\"\" Function to minimize.\"\"\"\n",
    "    #print(areas)\n",
    "    return sum(x.values()) + overlapCost(positions, areas)\n",
    "\n",
    "def overlap(first, sec, area1, area2):\n",
    "    s1 = (area1 ** 0.5) / 2\n",
    "    s2 = (area2 ** 0.5) / 2\n",
    "    deltaX = min((first[0] + s1, sec[0] + s2)) + max((first[0] - s1, sec[0] - s2))\n",
    "    deltaY = min((first[1] + s1, sec[1] + s2)) + max((first[1] - s1, sec[1] - s2))\n",
    "    return deltaX * deltaY\n",
    "\n",
    "def overlapCost(pVectors, areas, const=1):\n",
    "    totalCost = 0\n",
    "    #print(areas)\n",
    "    \n",
    "    for i in range(len(pVectors) - 1):\n",
    "        for j in range(i, len(pVectors)):\n",
    "            totalCost += overlap(pVectors[i], pVectors[j], areas[i], areas[j])\n",
    "\n",
    "    return totalCost\n",
    "\n",
    "def clip(x):\n",
    "    \"\"\" Force x to be in the interval.\"\"\"\n",
    "    a, b = interval\n",
    "    return max(min(x, b), a)"
   ]
  },
  {
   "cell_type": "code",
   "execution_count": 180,
   "id": "13385c3a-fc56-41a6-b1dd-6bea1c7eee24",
   "metadata": {},
   "outputs": [],
   "source": [
    "def random_start():\n",
    "    \"\"\" Random point in the interval.\"\"\"\n",
    "    a, b = interval\n",
    "    x = a + (b - a) * rn.random_sample()\n",
    "    y = a + (b - a) * rn.random_sample()\n",
    "    return (x, y)\n",
    "\n",
    "def init_positions():\n",
    "    return random.Generator.normal(loc=0.0, scale=1.0, size=None)"
   ]
  },
  {
   "cell_type": "code",
   "execution_count": 181,
   "id": "aceb7dbb-3d1c-4901-a9d0-01b548d7ec7a",
   "metadata": {},
   "outputs": [],
   "source": [
    "def cost_function(x, positions, areas):\n",
    "    \"\"\" Cost of x = f(x).\"\"\"\n",
    "    #print(areas)\n",
    "    return f(x, positions, areas)"
   ]
  },
  {
   "cell_type": "code",
   "execution_count": 182,
   "id": "1ce1cc17-e480-4642-a25f-d5d70bb95ce2",
   "metadata": {},
   "outputs": [],
   "source": [
    "def random_neighbour(x, fraction=1):\n",
    "    \"\"\"Move a little bit x, from the left or the right.\"\"\"\n",
    "    amplitude = (max(interval) - min(interval)) * (1 - fraction) / 10\n",
    "    deltaX = (-amplitude/2.) + amplitude * rn.random_sample()\n",
    "    deltaY = (-amplitude/2.) + amplitude * rn.random_sample()\n",
    "    return (clip(x[0] + deltaX), clip(x[1] + deltaY))"
   ]
  },
  {
   "cell_type": "code",
   "execution_count": 183,
   "id": "42dadaa4-68a1-4be0-9ff7-bc378d7cadaf",
   "metadata": {},
   "outputs": [],
   "source": [
    "def acceptance_probability(cost, new_cost, temperature):\n",
    "    if new_cost < cost:\n",
    "        # print(\"    - Acceptance probabilty = 1 as new_cost = {} < cost = {}...\".format(new_cost, cost))\n",
    "        return 1\n",
    "    else:\n",
    "        p = np.exp(- (new_cost - cost) / temperature)\n",
    "        # print(\"    - Acceptance probabilty = {:.3g}...\".format(p))\n",
    "        return p"
   ]
  },
  {
   "cell_type": "code",
   "execution_count": 184,
   "id": "3df5d7b3-64ff-4a55-9b5b-941da49f0d15",
   "metadata": {},
   "outputs": [],
   "source": [
    "def temperature(fraction):\n",
    "    \"\"\" Example of temperature dicreasing as the process goes on.\"\"\"\n",
    "    return max(0.01, min(1, 1 - fraction))"
   ]
  },
  {
   "cell_type": "code",
   "execution_count": 185,
   "id": "1f39c9d5-0842-4a22-99b3-afd379ac1de9",
   "metadata": {},
   "outputs": [],
   "source": [
    "annealing(random_start, cost_function, random_neighbour, acceptance_probability, temperature, positions, edges, areas, maxsteps=30, debug=True);"
   ]
  },
  {
   "cell_type": "code",
   "execution_count": 187,
   "id": "6caca275-8fb0-4974-99a0-6df1a6bbd0bf",
   "metadata": {},
   "outputs": [
    {
     "name": "stdout",
     "output_type": "stream",
     "text": [
      "[(-8.978312633279256, 2.0445872797094804), (1.475905625975605, -6.9361781623694885), (-2.9500230640509253, -0.8593229014615302)]\n"
     ]
    }
   ],
   "source": [
    "state, c, states, costs = annealing(random_start, cost_function, random_neighbour, acceptance_probability, temperature, positions, edges, areas, maxsteps=1000, debug=False)\n",
    "\n",
    "print(positions)"
   ]
  },
  {
   "cell_type": "code",
   "execution_count": null,
   "id": "00f148c6-021a-4caf-9b00-18d149031aa5",
   "metadata": {},
   "outputs": [],
   "source": []
  },
  {
   "cell_type": "code",
   "execution_count": null,
   "id": "a263099e-ff65-42a3-bbca-a5056b4e37cf",
   "metadata": {},
   "outputs": [],
   "source": []
  }
 ],
 "metadata": {
  "kernelspec": {
   "display_name": "Python 3 (ipykernel)",
   "language": "python",
   "name": "python3"
  },
  "language_info": {
   "codemirror_mode": {
    "name": "ipython",
    "version": 3
   },
   "file_extension": ".py",
   "mimetype": "text/x-python",
   "name": "python",
   "nbconvert_exporter": "python",
   "pygments_lexer": "ipython3",
   "version": "3.10.13"
  }
 },
 "nbformat": 4,
 "nbformat_minor": 5
}
