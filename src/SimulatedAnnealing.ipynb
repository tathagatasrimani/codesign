{
 "cells": [
  {
   "cell_type": "code",
   "execution_count": 541,
   "id": "bb33d626-8132-4c98-8b60-c2eed9b305af",
   "metadata": {},
   "outputs": [],
   "source": [
    "import numpy as np\n",
    "import numpy.random as rn\n",
    "import matplotlib.pyplot as plt  # to plot\n",
    "import matplotlib as mpl \n",
    "\n",
    "from hardwareModel import HardwareModel\n",
    "import networkx as nx\n",
    "\n",
    "from scipy import optimize       # to compare\n",
    "\n",
    "import seaborn as sns\n",
    "sns.set(context=\"talk\", style=\"darkgrid\", palette=\"hls\", font=\"sans-serif\", font_scale=1.05)\n",
    "\n",
    "FIGSIZE = (19, 8)  #: Figure size, in inches!\n",
    "mpl.rcParams['figure.figsize'] = FIGSIZE\n",
    "rng = rn.default_rng()"
   ]
  },
  {
   "cell_type": "code",
   "execution_count": 542,
   "id": "066ff969-b8b0-4db7-b8ba-8b397cec1ec9",
   "metadata": {},
   "outputs": [],
   "source": [
    "def annealing(random_start,  # get rid of function parameters\n",
    "              cost_function,\n",
    "              random_neighbour,\n",
    "              acceptance,\n",
    "              temperature,\n",
    "              positions,\n",
    "              edges,\n",
    "              areas,\n",
    "              maxsteps=10,\n",
    "              debug=True):\n",
    "    \"\"\" Optimize the black-box function 'cost_function' with the simulated annealing algorithm.\"\"\"\n",
    "    for i in range(len(positions)):\n",
    "        state = init_positions()\n",
    "        positions[i] = state\n",
    "    \n",
    "    wireLengths = wirelengths(positions, edges)\n",
    "    #print(np.sum(list(wireLengths.values())))\n",
    "    cost = cost_function(wireLengths, positions, areas)\n",
    "    states, costs = [[], [], []], [cost]\n",
    "    optimalPos = positions.copy()\n",
    "    minWireLengths = float(\"inf\")\n",
    "    best = wireLengths.copy()\n",
    "    \n",
    "    for step in range(maxsteps):\n",
    "        fraction = step / float(maxsteps)\n",
    "        T = temperature(fraction)\n",
    "\n",
    "        for i in range(len(positions)):\n",
    "            new_state = random_neighbour(positions[i], fraction)\n",
    "            positions[i] = new_state\n",
    "            wireLengths = wirelengths(positions, edges)\n",
    "            wireLengthSum = np.sum(list(wireLengths.values()))\n",
    "            new_cost = cost_function(wireLengths, positions, areas)\n",
    "            #if debug: print(\"Step #{:>2}/{:>2} : T = {:>4.3g}, state = {:>4.3g}, cost = {:>4.3g}, new_state = {:>4.3g}, new_cost = {:>4.3g} ...\".format(step, maxsteps, T, state, cost, new_state, new_cost))\n",
    "            if acceptance_probability(cost, new_cost, T) > rn.random():\n",
    "                state, cost = new_state, new_cost\n",
    "            if wireLengthSum < minWireLengths and overlapCost(positions, areas) == 0:\n",
    "                minWireLengths = wireLengthSum\n",
    "                optimalPos = positions.copy()\n",
    "                best = wireLengths.copy()\n",
    "                #print('wirelength:', minWireLengths, '|', 'pos:', optimalPos)\n",
    "            \n",
    "            states[i].append(state)\n",
    "            costs.append(new_cost)\n",
    "        #print(\"cost:\", cost, \"|\", \"new_cost:\", new_cost)\n",
    "        \n",
    "        #print(np.sum(list(wireLengths.values())))\n",
    "            # print(\"  ==> Accept it!\")\n",
    "        # else:\n",
    "        #    print(\"  ==> Reject it...\")\n",
    "\n",
    "    print('wirelength:', minWireLengths, '|', 'overlap cost:', overlapCost(optimalPos, areas), '|', 'pos:', optimalPos)\n",
    "        \n",
    "    return state, cost_function(wireLengths, positions, areas), states, costs, minWireLengths, optimalPos, best"
   ]
  },
  {
   "cell_type": "code",
   "execution_count": 543,
   "id": "e74efb21-8f1c-49a7-aa8d-6d1a0887e48f",
   "metadata": {},
   "outputs": [
    {
     "name": "stdout",
     "output_type": "stream",
     "text": [
      "netlist: [('Add0', {'type': 'pe', 'function': 'Add', 'in_use': 0, 'idx': 0}), ('Regs0', {'type': 'memory', 'function': 'Regs', 'in_use': 0, 'size': 1, 'idx': 0}), ('Regs1', {'type': 'memory', 'function': 'Regs', 'in_use': 0, 'size': 1, 'idx': 1}), ('Regs2', {'type': 'memory', 'function': 'Regs', 'in_use': 0, 'size': 1, 'idx': 2}), ('Mult0', {'type': 'pe', 'function': 'Mult', 'in_use': 0, 'idx': 0}), ('Eq0', {'type': 'pe', 'function': 'Eq', 'in_use': 0, 'idx': 0}), ('Buf0', {'type': 'mem', 'function': 'Buf', 'in_use': 0, 'idx': 0, 'size': 22}), ('Buf1', {'type': 'mem', 'function': 'Buf', 'in_use': 0, 'idx': 1, 'size': 22}), ('Mem0', {'type': 'mem', 'function': 'MainMem', 'in_use': 0, 'idx': 0, 'size': 1024}), ('Regs3', {'type': 'memory', 'function': 'Regs', 'in_use': 0, 'size': 1, 'idx': 3})]\n"
     ]
    }
   ],
   "source": [
    "hw = HardwareModel(cfg='aladdin_const_with_mem')\n",
    "digraph = hw.netlist\n",
    "N = len(digraph.nodes)"
   ]
  },
  {
   "cell_type": "code",
   "execution_count": 544,
   "id": "c2623009-22b9-490b-9ef0-34035337149a",
   "metadata": {},
   "outputs": [],
   "source": [
    "interval = (-10, 10)\n",
    "N = 3\n",
    "#wirelengths = {(0, 1) : 2, (2, 3) : 2}\n",
    "positions = [(0, 0), (0, 0), (2, 0)]\n",
    "edges = [(0, 1), (0, 2)]\n",
    "areas = [1, 1, 1]\n",
    "\n",
    "def wirelengths(x, e):\n",
    "    repeats = set()\n",
    "    output = {}\n",
    "\n",
    "    for edge in e:\n",
    "        if (edge[1], edge[0]) not in repeats:\n",
    "            repeats.add(edge)\n",
    "            position0 = x[edge[0]]\n",
    "            position1 = x[edge[1]]\n",
    "            wirelength = ((position0[0] - position1[0]) ** 2 + (position0[1] - position1[1]) ** 2) ** 0.5\n",
    "            output[edge] = wirelength\n",
    "\n",
    "    return output\n",
    "\n",
    "def f(x, positions, areas):\n",
    "    \"\"\" Function to minimize.\"\"\"\n",
    "    #print(areas)\n",
    "    #print(\"Sum of wirelengths:\", np.sum(list(x.values())), \"|\", \"Sum of overlaps:\", overlapCost(positions, areas))\n",
    "    return sum(x.values()) + overlapCost(positions, areas)\n",
    "\n",
    "def overlap(first, sec, area1, area2):\n",
    "    s1 = (area1 ** 0.5) / 2\n",
    "    s2 = (area2 ** 0.5) / 2\n",
    "\n",
    "    #print(first, sec)\n",
    "    if (first[0] - s1 > sec[0] + s2) or (sec[0] - s2 > first[0] + s2) or (first[1] - s1 > sec[1] + s2) or (sec[1] - s2 > first[1] + s2):\n",
    "        return 0\n",
    "    \n",
    "    deltaX = min([first[0] + s1, sec[0] + s2]) - max([first[0] - s1, sec[0] - s2])\n",
    "    deltaY = min((first[1] + s1, sec[1] + s2)) - max((first[1] - s1, sec[1] - s2))\n",
    "    #print('first square:', (first[0] + s1, first[0] - s1), '|', 'second square:', (sec[0] + s2, sec[0] - s2))\n",
    "\n",
    "    #print('deltaX:', deltaX, '|', 'deltaY:', deltaY)\n",
    "    if deltaX < 0 and deltaY < 0:\n",
    "        return 0\n",
    "    if deltaX == 0 and deltaY != 0:\n",
    "        return abs(s1 * deltaY)\n",
    "    if deltaX != 0 and deltaY == 0:\n",
    "        return abs(s2 * deltaX)\n",
    "\n",
    "    #print(deltaX * deltaY)\n",
    "    \n",
    "    return deltaX * deltaY\n",
    "\n",
    "def overlapCost(pVectors, areas, const=1):\n",
    "    totalCost = 0\n",
    "    #print(areas)\n",
    "    \n",
    "    for i in range(len(pVectors) - 1):\n",
    "        for j in range(i + 1, len(pVectors)):\n",
    "            totalCost += overlap(pVectors[i], pVectors[j], areas[i], areas[j])\n",
    "            #print(totalCost)\n",
    "\n",
    "    return totalCost\n",
    "\n",
    "def clip(x):\n",
    "    \"\"\" Force x to be in the interval.\"\"\"\n",
    "    a, b = interval\n",
    "    return max(min(x, b), a)"
   ]
  },
  {
   "cell_type": "code",
   "execution_count": 545,
   "id": "13385c3a-fc56-41a6-b1dd-6bea1c7eee24",
   "metadata": {},
   "outputs": [],
   "source": [
    "def random_start():\n",
    "    \"\"\" Random point in the interval.\"\"\"\n",
    "    a, b = interval\n",
    "    x = a + (b - a) * rn.random_sample()\n",
    "    y = a + (b - a) * rn.random_sample()\n",
    "    return (x, y)\n",
    "\n",
    "def init_positions():\n",
    "    return rng.normal(loc=0.0, scale=1.0, size=2)"
   ]
  },
  {
   "cell_type": "code",
   "execution_count": 546,
   "id": "aceb7dbb-3d1c-4901-a9d0-01b548d7ec7a",
   "metadata": {},
   "outputs": [],
   "source": [
    "def cost_function(x, positions, areas):\n",
    "    \"\"\" Cost of x = f(x).\"\"\"\n",
    "    #print(areas)\n",
    "    return f(x, positions, areas)"
   ]
  },
  {
   "cell_type": "code",
   "execution_count": 547,
   "id": "1ce1cc17-e480-4642-a25f-d5d70bb95ce2",
   "metadata": {},
   "outputs": [],
   "source": [
    "def random_neighbour(x, fraction=1):\n",
    "    \"\"\"Move a little bit x, from the left or the right.\"\"\"\n",
    "    amplitude = (max(interval) - min(interval)) * (1 - fraction) / 10\n",
    "    deltaX = (-amplitude/2.) + amplitude * rng.normal(loc=0.0, scale=1.0, size=None)\n",
    "    deltaY = (-amplitude/2.) + amplitude * rng.normal(loc=0.0, scale=1.0, size=None)\n",
    "    return (clip(x[0] + deltaX), clip(x[1] + deltaY))"
   ]
  },
  {
   "cell_type": "code",
   "execution_count": 548,
   "id": "42dadaa4-68a1-4be0-9ff7-bc378d7cadaf",
   "metadata": {},
   "outputs": [],
   "source": [
    "def acceptance_probability(cost, new_cost, temperature):\n",
    "    if new_cost < cost:\n",
    "        # print(\"    - Acceptance probabilty = 1 as new_cost = {} < cost = {}...\".format(new_cost, cost))\n",
    "        return 1\n",
    "    else:\n",
    "        p = np.exp(- (new_cost - cost) / temperature)\n",
    "        # print(\"    - Acceptance probabilty = {:.3g}...\".format(p))\n",
    "        return p"
   ]
  },
  {
   "cell_type": "code",
   "execution_count": 549,
   "id": "3df5d7b3-64ff-4a55-9b5b-941da49f0d15",
   "metadata": {},
   "outputs": [],
   "source": [
    "def temperature(fraction):\n",
    "    \"\"\" Example of temperature dicreasing as the process goes on.\"\"\"\n",
    "    return max(0.01, min(1, 1 - fraction))"
   ]
  },
  {
   "cell_type": "code",
   "execution_count": 550,
   "id": "1f39c9d5-0842-4a22-99b3-afd379ac1de9",
   "metadata": {},
   "outputs": [
    {
     "name": "stdout",
     "output_type": "stream",
     "text": [
      "wirelength: 4.1181498318809995 | overlap cost: 0 | pos: [(-0.12165693376902209, 2.7605785206854048), (-0.2697697705214991, 1.5126974699060152), array([ 0.46417384, -0.0403213 ])]\n"
     ]
    }
   ],
   "source": [
    "annealing(random_start, cost_function, random_neighbour, acceptance_probability, temperature, positions, edges, areas, maxsteps=30, debug=True);"
   ]
  },
  {
   "cell_type": "code",
   "execution_count": 551,
   "id": "6caca275-8fb0-4974-99a0-6df1a6bbd0bf",
   "metadata": {},
   "outputs": [
    {
     "name": "stdout",
     "output_type": "stream",
     "text": [
      "wirelength: 2.295309593250863 | overlap cost: 0 | pos: [(-10, -10), (-10, -8.942938718055434), (-8.761751688693703, -10)]\n",
      "[(-10, -10), (-10, -8.942938718055434), (-8.761751688693703, -10)]\n"
     ]
    }
   ],
   "source": [
    "state, c, states, costs, minWireLength, optimalPos, wirelengths = annealing(random_start, cost_function, random_neighbour, acceptance_probability, temperature, positions, edges, areas, maxsteps=1000, debug=False)\n",
    "\n",
    "print(optimalPos)\n",
    "#print(overlapCost(optimalPos, areas))"
   ]
  },
  {
   "cell_type": "code",
   "execution_count": 554,
   "id": "d25b6ad8-84c9-46c3-b921-673e75dffcc2",
   "metadata": {},
   "outputs": [],
   "source": [
    "def plotter(wirelengths):\n",
    "    G = nx.Graph()\n",
    "    edges_with_weights = []\n",
    "    \n",
    "    for pair in wirelengths:\n",
    "        pairUpdated = list(pair)\n",
    "        pairUpdated.append(wirelengths[pair])\n",
    "        edges_with_weights.append(pairUpdated)\n",
    "    \n",
    "    G.add_weighted_edges_from(edges_with_weights)\n",
    "    pos = nx.spring_layout(G, weight='weight', iterations=1000, k=0.5/np.sqrt(len(G.nodes())))\n",
    "    plt.figure(figsize=(8, 6))\n",
    "    nx.draw(G, pos, with_labels=True, node_size=700, node_color='skyblue', font_weight='bold', font_size=16)\n",
    "    labels = nx.get_edge_attributes(G, 'weight')\n",
    "    nx.draw_networkx_edge_labels(G, pos, edge_labels=labels)\n",
    "    plt.show()"
   ]
  },
  {
   "cell_type": "code",
   "execution_count": 555,
   "id": "35329c9d-6cff-48a9-bb43-b196547a9fe4",
   "metadata": {},
   "outputs": [
    {
     "data": {
      "image/png": "[encoded data removed]",
      "text/plain": [
       "<Figure size 800x600 with 1 Axes>"
      ]
     },
     "metadata": {},
     "output_type": "display_data"
    }
   ],
   "source": [
    "plotter(wirelengths)"
   ]
  },
  {
   "cell_type": "code",
   "execution_count": null,
   "id": "3f8d80cf-dd75-4f12-a516-f261af454927",
   "metadata": {},
   "outputs": [],
   "source": []
  }
 ],
 "metadata": {
  "kernelspec": {
   "display_name": "Python 3 (ipykernel)",
   "language": "python",
   "name": "python3"
  },
  "language_info": {
   "codemirror_mode": {
    "name": "ipython",
    "version": 3
   },
   "file_extension": ".py",
   "mimetype": "text/x-python",
   "name": "python",
   "nbconvert_exporter": "python",
   "pygments_lexer": "ipython3",
   "version": "3.10.13"
  }
 },
 "nbformat": 4,
 "nbformat_minor": 5
}
