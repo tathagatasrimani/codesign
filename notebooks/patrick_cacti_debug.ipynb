{
 "cells": [
  {
   "cell_type": "code",
   "execution_count": 29,
   "metadata": {},
   "outputs": [
    {
     "name": "stdout",
     "output_type": "stream",
     "text": [
      "../logs/2024-09-24_08-38-48\n",
      "INFO:src.hardwareModel:BUFFER VALS: read/write time 2.90872 ns, read energy 0.138167 nJ, write energy 0.142583 nJ, leakage power 5.13338\n",
      "\n",
      "INFO:src.hardwareModel:MEMORY VALS: read/write time 6.13262 ns, read energy 0.580929 nJ, write energy 0.938415 nJ, leakage power 52.4214\n",
      "\n",
      "{Reff_Add: 18551639.340001922, Ceff_Add: 1.0633723572320962e-07, Reff_And: 12823433.949309705, Ceff_And: 2.1757042700330577e-08, Reff_BitAnd: 43479455.73437821, Ceff_BitAnd: 8.831757286611571e-10, Reff_BitOr: 46173957.216508694, Ceff_BitOr: 8.662891900826447e-10, Reff_BitXor: 40979387.02965147, Ceff_BitXor: 9.175344661157024e-10, Reff_Eq: 9637159.83316716, Ceff_Eq: 2.9054203193388427e-08, Reff_FloorDiv: 40150.38201482472, Ceff_FloorDiv: 0.00017305439329156364, Reff_Gt: 6463147.8594782865, Ceff_Gt: 6.451964415272727e-08, Reff_GtE: 7324287.226032434, Ceff_GtE: 5.7479995937851235e-08, Reff_Invert: 146354953.67732668, Ceff_Invert: 1.9131569719008265e-10, Reff_IsNot: 146354953.67732668, Ceff_IsNot: 1.9131569719008265e-10, Reff_LShift: 13424860.615774436, Ceff_LShift: 3.188115037090909e-09, Reff_Lt: 6151509.672034419, Ceff_Lt: 5.006901011636362e-08, Reff_LtE: 6534891.723616664, Ceff_LtE: 4.7131614879999996e-08, Reff_Mod: 9041778.133670136, Ceff_Mod: 3.406409618181818e-08, Reff_Mult: 113684.19645420015, Ceff_Mult: 6.936243320885974e-05, Reff_Not: 128701815.40534154, Ceff_Not: 1.9131569719008265e-10, Reff_NotEq: 5927732.462179139, Ceff_NotEq: 5.1959160094545454e-08, Reff_Or: 13618125.630675375, Ceff_Or: 2.0927990219008267e-08, Reff_RShift: 13424860.615774436, Ceff_RShift: 3.188115037090909e-09, Reff_Regs: 532025647.25900626, Ceff_Regs: 5.814091787474061e-10, Reff_Sub: 18438419.360923044, Ceff_Sub: 1.398709916244628e-07, Reff_UAdd: 21096209.539074115, Ceff_UAdd: 1.2092219672330578e-07, Reff_USub: 18438419.360923044, Ceff_USub: 1.398709916244628e-07, V_dd: 0.9600713974304457, MemReadEact: 5.809290000000001e-10, MemWriteEact: 9.38415e-10, MemPpass: 0.0524214, BufReadEact: 1.3816700000000003e-10, BufWriteEact: 1.42583e-10, BufPpass: 0.00513338, OffChipIOL: 1.25, OffChipIOPact: 3482760.0, C_g_ideal: 8.733273406063339e-17, C_fringe: 1.5987617393142658e-17, C_junc: 1.368682230288371e-10, C_junc_sw: 5.8797104421224e-17, l_phy: 0.009, l_elec: 0.0011006227553009842, nmos_effective_resistance_multiplier: 0.37960759577028114, Vdd: 0.1731006346851016, Vth: 0.036763357631578245, Vdsat: 0.005480114019601032, I_on_n: 0.00045223545925651763, I_on_p: 0.0013132, I_off_n: 3.261083782774376e-07, I_g_on_n: 1.81e-09, C_ox: 8.53774200008273e-15, t_ox: 0.00055, n2p_drv_rt: 0.5168416975604809, lch_lk_rdc: 0.305437, Mobility_n: 10021802747.181738, gmp_to_gmn_multiplier: 0.32456871641454244, vpp: 1e-09, Wmemcella: 1.1799460271305864, Wmemcellpmos: 1.0489194333017509, Wmemcellnmos: 2.0790819308846724, area_cell: 111.11796753578669, asp_ratio_cell: 1.2087691864395655, dram_cell_I_on: 1e-09, dram_cell_Vdd: 1e-09, dram_cell_C: 1e-09, dram_cell_I_off_worst_case_len_temp: 1e-09, logic_scaling_co_eff: 0.2401, core_tx_density: 2.55102, sckt_co_eff: 1.1296, chip_layout_overhead: 1.2, macro_layout_overhead: 1.1, sense_delay: 3e-11, sense_dy_power: 2.16e-15, wire_pitch: 0.6280055948510198, barrier_thickness: 1e-09, dishing_thickness: 1e-09, alpha_scatter: 1.0, aspect_ratio: 0.602911653621438, miller_value: 0.36607463550704417, horiz_dielectric_constant: 0.3398465572545591, vert_dielectric_constant: 1.009498146592047, ild_thickness: 0.03031804530677993, fringe_cap: 3.055716259166829e-17, resistivity: 0.018, wire_r_per_micron: 1e-09, wire_c_per_micron: 1e-09, tsv_pitch: 0.8, tsv_diameter: 0.4, tsv_length: 4.0, tsv_dielec_thickness: 0.1, tsv_contact_resistance: 0.1, tsv_depletion_width: 0.6, tsv_liner_dielectric_cons: 1.414, vdd_io: 1.5, v_sw_clk: 0.75, c_int: 1.5, c_tx: 2, c_data: 1.5, c_addr: 0.75, i_bias: 15, i_leak: 1000, ioarea_c: 0.01, ioarea_k0: 0.5, ioarea_k1: 0.00015, ioarea_k2: 4.5e-08, ioarea_k3: 1.5e-11, t_ds: 150, t_is: 150, t_dh: 150, t_ih: 150, t_dcd_soc: 50, t_dcd_dram: 50, t_error_soc: 25, t_skew_setup: 25, t_skew_hold: 25, t_dqsq: 100, t_soc_setup: 50, t_soc_hold: 50, t_jitter_setup: 100, t_jitter_hold: 100, t_jitter_addr_setup: 100, t_jitter_addr_hold: 100, t_cor_margin: 30, r_diff_term: 100, rtt_ca: 50, rs1_dq: 15, rs2_dq: 15, r_stub_ca: 1e-09, r_on: 1e-09, r_on_ca: 50, z0: 50, t_flight: 1e-09, t_flight_ca: 2, k_noise_write: 0.2, k_noise_read: 0.2, k_noise_addr: 0.2, v_noise_independent_write: 0.1, v_noise_independent_read: 0.1, v_noise_independent_addr: 0.1, phy_datapath_s: 1e-09, phy_phase_rotator_s: 10, phy_clock_tree_s: 1e-09, phy_rx_s: 10, phy_dcc_s: 1e-09, phy_deskew_s: 1e-09, phy_leveling_s: 1e-09, phy_pll_s: 10, phy_datapath_d: 0.5, phy_phase_rotator_d: 0.01, phy_clock_tree_d: 0.5, phy_rx_d: 0.5, phy_dcc_d: 0.05, phy_deskew_d: 0.1, phy_leveling_d: 0.05, phy_pll_d: 0.05, phy_pll_wtime: 10, phy_phase_rotator_wtime: 5, phy_rx_wtime: 2, phy_bandgap_wtime: 10, phy_deskew_wtime: 0.003, phy_vrefgen_wtime: 0.5}\n",
      "8\n",
      "MemL_expr: 162755.813645960\n",
      "MemReadEact_expr: 148.857830110274\n",
      "MemWriteEact_expr: 148.602724738406\n",
      "MemPpass_expr: 56.9376789912083\n",
      "BufL_expr: 7.54387568000435e-7*2**(-1 + log(5)/log(2)) + 9.83343352661302\n",
      "BufReadEact_expr: 0.002441791112677*2**(-1 + log(5)/log(2)) + 146347.444158883\n",
      "BufWriteEact_expr: 0.002441791112677*2**(-1 + log(5)/log(2)) + 146347.443564064\n",
      "BufPpass_expr: 2.12426354478645e-7*2**(-1 + log(5)/log(2)) + 26.3187984791022\n",
      "8\n"
     ]
    }
   ],
   "source": [
    "\n",
    "# Add the parent directory to the path so we can import the module\n",
    "path_to_add = os.path.split(os.getcwd())[0]\n",
    "if path_to_add not in sys.path:\n",
    "    sys.path.append(path_to_add)\n",
    "\n",
    "import yaml\n",
    "import os\n",
    "import sys\n",
    "from src import sim_util\n",
    "import glob\n",
    "import datetime\n",
    "import sympy as sp\n",
    "from src import hw_symbols\n",
    "\n",
    "def get_latest_log_dir():\n",
    "    log_dirs = glob.glob(\"../logs/*-*-*_*-*-*\")\n",
    "    log_dirs = sorted(log_dirs, key=lambda x: datetime.datetime.strptime(x.split(\"/\")[-1], \"%Y-%m-%d_%H-%M-%S\"))\n",
    "    return log_dirs[-1]\n",
    "\n",
    "log_dir = get_latest_log_dir()\n",
    "\n",
    "print(log_dir)\n",
    "\n",
    "log_file = open(f\"{log_dir}/log.txt\", 'r')\n",
    "log_lines = log_file.readlines()\n",
    "i = 0\n",
    "for line in log_lines:\n",
    "    if line.startswith(\"INFO:src.hardwareModel:BUFFER\") or line.startswith(\"INFO:src.hardwareModel:MEMORY\"):\n",
    "        print(line)\n",
    "        i += 1\n",
    "        if i == 2: break\n",
    "\n",
    "rcs = yaml.load(open(f\"{log_dir}/rcs_0.yaml\", 'r'), Loader=yaml.Loader)\n",
    "tech_params = sim_util.generate_init_params_from_rcs_as_symbols(rcs)\n",
    "cacti_exprs_file = open(f\"{log_dir}/cacti_exprs_0.txt\", 'r')\n",
    "cacti_lines = cacti_exprs_file.readlines()\n",
    "cacti_exprs = {}\n",
    "for line in cacti_lines:\n",
    "    sp_expr = line[line.find(':')+2:-1]\n",
    "    name = line[:line.find(':')]\n",
    "    cacti_exprs[name] = sp.sympify(sp_expr)\n",
    "    cacti_exprs[name] = cacti_exprs[name].subs({symbol: tech_params[hw_symbols.symbol_table[symbol.name]] for symbol in cacti_exprs[name].free_symbols}).simplify()\n",
    "    print(f\"{name}: {cacti_exprs[name]}\")"
   ]
  }
 ],
 "metadata": {
  "kernelspec": {
   "display_name": "Python 3",
   "language": "python",
   "name": "python3"
  },
  "language_info": {
   "codemirror_mode": {
    "name": "ipython",
    "version": 3
   },
   "file_extension": ".py",
   "mimetype": "text/x-python",
   "name": "python",
   "nbconvert_exporter": "python",
   "pygments_lexer": "ipython3",
   "version": "3.10.13"
  }
 },
 "nbformat": 4,
 "nbformat_minor": 2
}
